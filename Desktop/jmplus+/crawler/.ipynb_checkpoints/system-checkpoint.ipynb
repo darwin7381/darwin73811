{
 "cells": [
  {
   "cell_type": "code",
   "execution_count": 1,
   "metadata": {
    "collapsed": false
   },
   "outputs": [
    {
     "name": "stdout",
     "output_type": "stream",
     "text": [
      "ï»¿<html> \r\n",
      "<head>\r\n",
      "\t<title>æ¥è¨å¸³</title>\r\n",
      "\t<meta http-equiv=\"Content-type\" content=\"text/html; charset=utf-8\">\r\n",
      "\t<link rel=\"stylesheet\" type=\"text/css\" href=\"boards.css\" />\r\n",
      "\t<link rel=\"stylesheet\" href=\"jquery-ui.css\" />\r\n",
      "    <script src=\"https://ajax.googleapis.com/ajax/libs/jquery/1.8.3/jquery.js\"></script>\r\n",
      "\t<script src=\"https://ajax.googleapis.com/ajax/libs/jqueryui/1.10.0/jquery-ui.min.js\"></script>\r\n",
      "</head>\r\n",
      "<body>\r\n",
      "\t<table>\r\n",
      "\t\t<tr>\r\n",
      "\t\t\t<td>æ¥æ</td>\r\n",
      "\t\t\t<td>å¸³ç®</td>\r\n",
      "\t\t\t<td>é ",
      "ç®</td>\r\n",
      "\t\t\t<td>éé¡</td>\r\n",
      "\t\t\t<td>è¨»è¨1</td>\r\n",
      "\t\t\t<td>è¨»è¨2</td>\r\n",
      "\t\t\t<td>æ°å¢</td>\r\n",
      "\t\t</tr>\r\n",
      "\t\t<tr>\r\n",
      "\t\t\t<td><input type='text' id='InDate' class='DATE' size='12'></td>\r\n",
      "\t\t\t<td>\r\n",
      "\t\t\t\t<select id='InType'></select>\r\n",
      "\t\t\t</td>\r\n",
      "\t\t\t<td>\r\n",
      "\t\t\t\t<select id='InItem'></select>\r\n",
      "\t\t\t</td>\r\n",
      "\t\t\t<td>\r\n",
      "\t\t\t\t<input type='text' id='InNumber' size='8'>\r\n",
      "\t\t\t</td>\r\n",
      "\t\t\t<td>\r\n",
      "\t\t\t\t<input type='text' id='InNote1'>\r\n",
      "\t\t\t</td>\r\n",
      "\t\t\t<td>\r\n",
      "\t\t\t\t<input type='text' id='InNote2'>\r\n",
      "\t\t\t</td>\r\n",
      "\t\t\t<td>\r\n",
      "\t\t\t\t<input type='button' value='æ°å¢' id='InAdd'>\r\n",
      "\t\t\t</td>\r\n",
      "\t\t</tr>\r\n",
      "\t</table>\r\n",
      "\t<hr>\r\n",
      "\t<table style=\"display:none\">\r\n",
      "\t\t<tr>\r\n",
      "\t\t\t<td>\r\n",
      "\t\t\t\t<input type='button' value='<' id='PreviousPage'>\r\n",
      "\t\t\t\tç¬¬<input type='text' size='4' value='1' id='OutPage'>é \r\n",
      "\t\t\t\t<input type='button' value='>' id='NextPage'>\r\n",
      "\t\t\t</td>\r\n",
      "\t\t\t<td>ä¸é <input type='text' size='4' value='100' id='OutItems'>ç­è³æ</td>\r\n",
      "\t\t\t<td><input type='button' value='è·³é ' id='PageQuery'></td>\r\n",
      "\t\t</tr>\r\n",
      "\t</table>\r\n",
      "\t<table>\r\n",
      "\t\t<tr>\r\n",
      "\t\t\t<td>\r\n",
      "\t\t\t\t<input type='text' id='OutStartDate' class='DATE' size='12'>\r\n",
      "\t\t\t\t~\r\n",
      "\t\t\t\t<input type='text' id='OutStopDate' class='DATE' size='12'>\r\n",
      "\t\t\t</td>\r\n",
      "\t\t\t<td>\r\n",
      "\t\t\t\t<input type='button' value='ç´°ç®' id='DateQuery'>\r\n",
      "\t\t\t</td>\r\n",
      "\t\t\t<td>\r\n",
      "\t\t\t\t<input type='button' value='å ±è¡¨' id='DoReport'>\r\n",
      "\t\t\t</td>\r\n",
      "\t\t</tr>\r\n",
      "\t</table>\r\n",
      "\t<hr>\r\n",
      "\t<div id='result'></div>\r\n",
      "</body>\r\n",
      "\r\n",
      "<Script type=\"text/javascript\" language=\"javascript\">\r\n",
      "var urlPrefix=\"/system?pos=\";\r\n",
      "var Obj;\r\n",
      "\r\n",
      "$(\"#PreviousPage\").click(function(){\r\n",
      "\tif($(\"#OutPage\").attr('value')=='1') return;\r\n",
      "\t\r\n",
      "\t$(\"#OutPage\").attr('value',parseInt($(\"#OutPage\").attr('value'))-1);\r\n",
      "\tListData();\r\n",
      "});\r\n",
      "$(\"#NextPage\").click(function(){\r\n",
      "\t$(\"#result\").html(\"\");\r\n",
      "\t$(\"#OutPage\").attr('value',parseInt($(\"#OutPage\").attr('value'))+1);\r\n",
      "\tListData();\r\n",
      "});\r\n",
      "$(\"#PageQuery\").click(ListData);\r\n",
      "\r\n",
      "function ListData(){\r\n",
      "\tvar url=\"select * from Mina order by Date desc,Type, Item limit \"+(parseInt($(\"#OutPage\").attr('value'))-1)*parseInt($(\"#OutItems\").attr('value'))+\",\"+$(\"#OutItems\").attr('value');\r\n",
      "\t//alert(url);\r\n",
      "\tvar result=doRequest(urlPrefix+base64_encode(encodeURI(url)));\r\n",
      "\t//alert(result);\r\n",
      "\tvar MyData=eval(result);\r\n",
      "\tMyData=MyData.data;\r\n",
      "\t\r\n",
      "\tvar i, j;\r\n",
      "\tvar html='<table>';\r\n",
      "\t\thtml+='<tr><td>Key</td><td>æ¥æ</td><td>ç§ç®</td><td>é ",
      "ç®</td><td>éé¡</td><td>åè¨»1</td><td>åè¨»2</td><td>ç·¨è¼¯</td></tr>';\r\n",
      "\t\tfor(i in MyData){\r\n",
      "\t\t\thtml+='<tr id=\"tr'+MyData[i]['Key']+'\">';\r\n",
      "\t\t\tfor(j in MyData[i]){\r\n",
      "\t\t\t\thtml+='<td>';\r\n",
      "\t\t\t\thtml+=MyData[i][j];\r\n",
      "\t\t\t\thtml+='</td>';\r\n",
      "\t\t\t}\r\n",
      "\t\t\thtml+='<td><input type=\"button\" onClick=\"DeleteItem('+MyData[i]['Key']+');\" value=\"åªé¤\"></td>';\r\n",
      "\t\t\thtml+='</tr>';\r\n",
      "\t\t}\r\n",
      "\thtml+='</table>';\r\n",
      "\t\r\n",
      "\t$(\"#result\").html(html);\r\n",
      "\r\n",
      "}\r\n",
      "\r\n",
      "$(\"#DateQuery\").click(function(){\r\n",
      "\tListDataByDate();\r\n",
      "});\r\n",
      "function ListDataByDate(){\r\n",
      "\tvar url=\"select * from Mina where Date>='\"+$(\"#OutStartDate\").attr('value')+\"' and Date<='\"+$(\"#OutStopDate\").attr('value')+\"' order by Type,Item,Date desc;\";\r\n",
      "\t//alert(url);\r\n",
      "\tvar result=doRequest(urlPrefix+base64_encode(encodeURI(url)));\r\n",
      "\t//alert(result);\r\n",
      "\tvar MyData=eval(result);\r\n",
      "\tMyData=MyData.data;\r\n",
      "\t\r\n",
      "\tvar i, j;\r\n",
      "\tvar html='<table>';\r\n",
      "\t\thtml+='<tr><td>Key</td><td>æ¥æ</td><td>ç§ç®</td><td>é ",
      "ç®</td><td>éé¡</td><td>åè¨»1</td><td>åè¨»2</td><td>ç·¨è¼¯</td></tr>';\r\n",
      "\t\tfor(i in MyData){\r\n",
      "\t\t\tvar MyColor='FFffff';\r\n",
      "//var gTypes=\"1.ç¾æ¶,2.ç¥¨æ¶,3.éæ¶,4.éµæ¶,5.æ¯åº,6.éæ¯,7.å¡æ¯,8.ç¥¨æ¯\";\r\n",
      "//var gTypes=\"1.ç¾æ¶,2.ç¥¨æ¶,3.éæ¶,4.éµæ¶,5.æ¯åº,8.ç¥¨æ¯\";\r\n",
      "//var gTypes=\"1.ç¾éæ¶å",
      "¥,2.åè²¸æ¶å",
      "¥,3.éæµæ¶å",
      "¥,5.ç¾éæ¯åº,8.è²¨æ¬¾æ¯åº,9.è²¸æ¬¾æ¯åº\";\r\n",
      "\t\t\tswitch(MyData[i]['Type']){\r\n",
      "\t\t\t\tcase \"1.ç¾æ¶\": MyColor=\"C2C3FC\"; break;\r\n",
      "\t\t\t\tcase \"1.ç¾éæ¶å",
      "¥\": MyColor=\"C2C3FC\"; break;\r\n",
      "\t\t\t\tcase \"2.ç¥¨æ¶\": MyColor=\"C2F9FC\"; break;\r\n",
      "\t\t\t\tcase \"2.åè²¸æ¶å",
      "¥\": MyColor=\"C2F9FC\"; break;\r\n",
      "\t\t\t\tcase \"3.éæµæ¶å",
      "¥\": MyColor=\"C2FCD7\"; break;\r\n",
      "\t\t\t\tcase \"4.éµæ¶\": MyColor=\"D3FCC2\"; break;\r\n",
      "\t\t\t\tcase \"5.æ¯åº\": MyColor=\"FAFCC2\"; break;\r\n",
      "\t\t\t\tcase \"5.ç¾éæ¯åº\": MyColor=\"FAFCC2\"; break;\r\n",
      "\t\t\t\tcase \"6.éæ¯\": MyColor=\"A9E2F3\"; break;\r\n",
      "\t\t\t\tcase \"7.å¡æ¯\": MyColor=\"FCC8C2\"; break;\r\n",
      "\t\t\t\tcase \"8.ç¥¨æ¯\": MyColor=\"ECC2FC\"; break;\r\n",
      "\t\t\t\tcase \"8.è²¨æ¬¾æ¯åº\": MyColor=\"ECC2FC\"; break;\r\n",
      "\t\t\t\tcase \"9.è²¸æ¬¾æ¯åº\": MyColor=\"FCC8C2\"; break;\r\n",
      "\t\t\t}\r\n",
      "\t\t\thtml+='<tr id=\"tr'+MyData[i]['Key']+'\" style=\"background-color: '+MyColor+'\">';\r\n",
      "\t\t\tfor(j in MyData[i]){\r\n",
      "\t\t\t\thtml+='<td id=\"td'+j+'_'+MyData[i]['Key']+'\">';\r\n",
      "\t\t\t\thtml+=MyData[i][j];\r\n",
      "\t\t\t\thtml+='</td>';\r\n",
      "\t\t\t}\r\n",
      "\t\t\thtml+='<td>';\r\n",
      "\t\t\thtml+='<input type=\"button\" id=\"buEdit_'+MyData[i]['Key']+'\" onClick=\"EditItem('+MyData[i]['Key']+');\" value=\"ç·¨è¼¯\">';\r\n",
      "\t\t\thtml+='<input type=\"button\" id=\"buUpdate_'+MyData[i]['Key']+'\" onClick=\"UpdateItem('+MyData[i]['Key']+');\" value=\"æ´æ°\" style=\"display:none;\">';\r\n",
      "\t\t\thtml+='<input type=\"button\" id=\"buDelete_'+MyData[i]['Key']+'\" onClick=\"DeleteItem('+MyData[i]['Key']+');\" value=\"åªé¤\">';\r\n",
      "\t\t\thtml+='</td>';\r\n",
      "\t\t\thtml+='</tr>';\r\n",
      "\t\t}\r\n",
      "\thtml+='</table>';\r\n",
      "\t\r\n",
      "\t$(\"#result\").html(html);\r\n",
      "\r\n",
      "}\r\n",
      "\r\n",
      "function EditItem(Key){\r\n",
      "\tvar Item=$(\"#tdItem_\"+Key).html();\r\n",
      "\tvar Type=$(\"#tdType_\"+Key).html();\r\n",
      "\t$(\"#tdDate_\"+Key).html(\"<input type='text' class='DATE' id='txtDate_\"+Key+\"' value='\"+$(\"#tdDate_\"+Key).html()+\"' size='10'>\");\r\n",
      "\t$(\"#tdType_\"+Key).html(\"<select id='txtType_\"+Key+\"'></select>\");\r\n",
      "\t$(\"#tdItem_\"+Key).html(\"<select id='txtItem_\"+Key+\"'></select>\");\r\n",
      "\t$(\"#tdNumber_\"+Key).html(\"<input type='text' id='txtNumber_\"+Key+\"' value='\"+$(\"#tdNumber_\"+Key).html()+\"' size='10'>\");\r\n",
      "\t$(\"#tdNote1_\"+Key).html(\"<input type='text' id='txtNote1_\"+Key+\"' value='\"+$(\"#tdNote1_\"+Key).html()+\"' size='10'>\");\r\n",
      "\t$(\"#tdNote2_\"+Key).html(\"<input type='text' id='txtNote2_\"+Key+\"' value='\"+$(\"#tdNote2_\"+Key).html()+\"' size='10'>\");\r\n",
      "\t$(\".DATE\").datepicker({dateFormat: 'yy-mm-dd'});\r\n",
      "\tInsertOption(\"txtType_\"+Key, gTypes);\r\n",
      "\t$(\"#txtType_\"+Key).attr('value', Type);\r\n",
      "\tDetermineItems(\"txtType_\"+Key, \"txtItem_\"+Key);\r\n",
      "\t$(\"#txtType_\"+Key).change(function(){DetermineItems(\"txtType_\"+Key, \"txtItem_\"+Key);});\r\n",
      "\t$(\"#txtItem_\"+Key).attr('value', Item);\r\n",
      "\t$(\"#buEdit_\"+Key).hide();\r\n",
      "\t$(\"#buUpdate_\"+Key).show();\r\n",
      "}\r\n",
      "\r\n",
      "function UpdateItem(Key){\r\n",
      "\tvar cmd='';\r\n",
      "\tcmd+='update Mina set ';\r\n",
      "\tcmd+='Date=\"'+$(\"#txtDate_\"+Key).attr('value')+'\",';\r\n",
      "\tcmd+='Type=\"'+$(\"#txtType_\"+Key).attr('value')+'\",';\r\n",
      "\tcmd+='Item=\"'+$(\"#txtItem_\"+Key).attr('value')+'\",';\r\n",
      "\tcmd+='Number=\"'+$(\"#txtNumber_\"+Key).attr('value')+'\",';\r\n",
      "\tcmd+='Note1=\"'+$(\"#txtNote1_\"+Key).attr('value')+'\",';\r\n",
      "\tcmd+='Note2=\"'+$(\"#txtNote2_\"+Key).attr('value')+'\" ';\r\n",
      "\tcmd+='where Key==\"'+Key+'\";';\r\n",
      "\t//alert(cmd);\r\n",
      "\tvar result=doRequest(urlPrefix+base64_encode(encodeURI(cmd)));\r\n",
      "\t$(\"#buEdit_\"+Key).show();\r\n",
      "\t$(\"#buUpdate_\"+Key).hide();\r\n",
      "\t$(\"#tdDate_\"+Key).html($(\"#txtDate_\"+Key).attr('value'));\r\n",
      "\t$(\"#tdType_\"+Key).html($(\"#txtType_\"+Key).attr('value'));\r\n",
      "\t$(\"#tdItem_\"+Key).html($(\"#txtItem_\"+Key).attr('value'));\r\n",
      "\t$(\"#tdNumber_\"+Key).html($(\"#txtNumber_\"+Key).attr('value'));\r\n",
      "\t$(\"#tdNote1_\"+Key).html($(\"#txtNote1_\"+Key).attr('value'));\r\n",
      "\t$(\"#tdNote2_\"+Key).html($(\"#txtNote2_\"+Key).attr('value'));\r\n",
      "\r\n",
      "}\r\n",
      "\r\n",
      "function DeleteItem(Key){\r\n",
      "\tif(confirm(\"ç¢ºå®è¦åªé¤ç·¨è \"+Key+\" çè³æ?\")!=true) return;\r\n",
      "\tvar url=\"delete from Mina where Key=='\"+Key+\"'\";\r\n",
      "\t//alert(url);\r\n",
      "\tvar result=doRequest(urlPrefix+base64_encode(encodeURI(url)));\r\n",
      "\t//alert(result);\r\n",
      "\t$(\"#tr\"+Key).hide();\r\n",
      "}\r\n",
      "\r\n",
      "$(\"#InAdd\").click(function(){\r\n",
      "\tvar url=\"insert into Mina (Date,Type,Item,Number,Note1,Note2) values ('\"+$(\"#InDate\").attr('value')+\"','\"+$(\"#InType\").attr('value')+\"','\"+$(\"#InItem\").attr('value')+\"','\"+$(\"#InNumber\").attr('value')+\"','\"+$(\"#InNote1\").attr('value')+\"','\"+$(\"#InNote2\").attr('value')+\"')\";\r\n",
      "\t//alert(url);\r\n",
      "\t$(\"#result\").html(url);\r\n",
      "\tvar result=doRequest(urlPrefix+base64_encode(encodeURI(url)));\r\n",
      "\t\r\n",
      "\t$(\"#OutStartDate\").attr('value',$(\"#InDate\").attr('value'));\r\n",
      "\t$(\"#OutStopDate\").attr('value',$(\"#InDate\").attr('value'));\r\n",
      "\tListDataByDate();\r\n",
      "\t$(\"#InNumber\").attr('value','');\r\n",
      "\t$(\"#InNote1\").attr('value','');\r\n",
      "\t$(\"#InNote2\").attr('value','');\r\n",
      "});\r\n",
      "\r\n",
      "function Add0(num, n) {\r\n",
      "    var length = num.toString().length;\r\n",
      "    while(length < n) {\r\n",
      "        num = \"0\" + num;\r\n",
      "        length++;\r\n",
      "    }\r\n",
      "    return num;\r\n",
      "}\r\n",
      "\r\n",
      "function InsertOption(id, options){\r\n",
      "\tvar Types = options.split(',');\r\n",
      "\t\r\n",
      "\tfor(i in Types){\r\n",
      "\t\t$(\"#\"+id).append(\"<option value='\"+Types[i]+\"'>\"+Types[i]+\"</option>\");\r\n",
      "\t}\r\n",
      "}\r\n",
      "\r\n",
      "function DetermineItems(Type, Item){\r\n",
      "\t$(\"#\"+Item).children().remove().end();\r\n",
      "\tswitch($(\"#\"+Type).attr('value')){\r\n",
      "\t\tcase \"1.ç¾éæ¶å",
      "¥\":\r\n",
      "\t\t\tInsertOption(Item, \"è³æ©ç¾é,å·²ä»è²»ç¨,è¯ä¿¡(V-M-J-é),è¯ä¿¡_AE,è¯ä¿¡_å3æ,è¯ä¿¡_å6æ,è¯ä¿¡_å12æ,åæ³°(V+M+J),åæ³°_å3æ,åæ³°_å6æ,åæ³°_å12æ,ä¸­ä¿¡(V+M+J),ä¸­ä¿¡_éè¯å¡,ä¸­ä¿¡_å3æ,ä¸­ä¿¡_å6æ,ä¸­ä¿¡_å12æ\");\r\n",
      "\t\t\tbreak;\r\n",
      "\t\tcase \"2.åè²¸æ¶å",
      "¥\":\r\n",
      "\t\t\tInsertOption(Item, \"éè¡è²¸æ¬¾,æ°éåè²¸,åè²¸è¿é\"); \r\n",
      "\t\t\tbreak;\r\n",
      "\t\tcase \"3.éæµæ¶å",
      "¥\":\r\n",
      "\t\t\tInsertOption(Item, \"é«éåºæ¶å",
      "¥,ç¶²ææ¶å",
      "¥,è²¨æ¬¾æ¶å",
      "¥,éè¡æ¶å",
      "¥,è¡é·è£å©æ¶å",
      "¥\");\r\n",
      "\t\t\tbreak;\r\n",
      "\t\tcase \"4.éµæ¶\":\r\n",
      "\t\t\tInsertOption(Item, \"ä»£æ¶è²¨æ¬¾,YAHOO,é²å¤©,éµå±å¯æ¬¾,å©æ¯-é,Y-é,é²å¤©-é¨,åæ¥æçºè²»,éè²»\");\r\n",
      "\t\t\tbreak;\r\n",
      "\t\tcase \"5.ç¾éæ¯åº\":\r\n",
      "\t\t\tInsertOption(Item, \"é¤è²»,æåè²»ç¨,æçºè²»,éè²»,çæ¥­ç¨",
      "è³¦,åè²¿éç¨",
      ",ç§ä»»ç®¡ç,èªè³,å¥ä¿,åä¿,åéææ¥,å¡å·¥ç¦å©,æ°´è²»,é»è²»,é»ä¿¡è²»,ç¦æ¯è²»,æå",
      "·,äº¤éè²»,æ¸",
      "æ½ç¨å,äº¤éè²»,å®£å³è²»,å·®æ",
      "è²»,ä¿éªè²»,éè²»,çè²¡å¨å",
      "·,å",
      "¶ä»ä»£ä»æ¬¾\");\r\n",
      "\t\t\tbreak;\r\n",
      "\t\tcase \"6.éæ¯\":\r\n",
      "\t\t\tInsertOption(Item, \"é¤è²»,è²¨æ¬¾-è³æ©,è²¨æ¬¾-é¤é£²,è²¨æ¬¾-CBHD,éè²»-ç¶²è·¯,éè²»-CBHD,è²¸æ¬¾æ¸",
      "å,å",
      "è£è²»-ç¶²è·¯,å",
      "è£è²»-CBHD,é»ä¿¡è²»,çæ¥­ç¨",
      "è³¦,åè²¿éç¨",
      ",çæ¥­ç¨",
      "-è³æ©,çæ¥­ç¨",
      "-CBHD,ç§ä»»ç®¡ç,èªè³,å¥ä¿-è³æ©,å¥ä¿-CBHD,åä¿-è³æ©,åä¿-CBHD,åéææ¥-è³æ©,åéææ¥-CBHD,å¡å·¥ç¦å©,æ°´è²»,é»è²»,ç¦æ¯è²»,éµè³,æå",
      "·,äº¤éè²»,æ¸",
      "æ½ç¨å,æè¨å¸«è²»ç¨,äº¤éè²»-è³æ©,äº¤éè²»-CBHD,å®£å³è²»,å·®æ",
      "è²»,ä¿éªè²»,éè²»,çè²¡å¨å",
      "·,å",
      "¶ä»ä»£ä»æ¬¾\");\r\n",
      "\t\t\tbreak;\r\n",
      "\t\tcase \"7.å¡æ¯\":\r\n",
      "\t\t\tInsertOption(Item, \"è²¨æ¬¾-è³æ©,è²¨æ¬¾-é¤é£²,è²¨æ¬¾-CBHD,æå",
      "·-è³æ©,æå",
      "·-CBHD,å¡å·¥ç¦å©,äº¤éè²»-è³æ©,äº¤éè²»-CBHD,äº¤éè²»-è³æ©,äº¤éè²»-CBHD,å·®æ",
      "è²»,éè²»-è³æ©,éè²»-CBHD,çè²¡å¨å",
      "·-è³æ©,çè²¡å¨å",
      "·-CBHD\");\r\n",
      "\t\t\tbreak;\r\n",
      "\t\tcase \"8.è²¨æ¬¾æ¯åº\":\r\n",
      "\t\t\tInsertOption(Item, \"æ¯ç¥¨,å¯æ¬¾,ç¾é\");\r\n",
      "\t\t\tbreak;\r\n",
      "\t\tcase \"9.è²¸æ¬¾æ¯åº\":\r\n",
      "\t\t\tInsertOption(Item, \"æ¬éåé,å©æ¯æ¯åº,æçºè²»ç¨\");\r\n",
      "\t\t\tbreak;\r\n",
      "\t}\r\n",
      "}\r\n",
      "\r\n",
      "$(\"#InType\").change(function(){\r\n",
      "\tDetermineItems(\"InType\",\"InItem\");\r\n",
      "});\r\n",
      "\r\n",
      "function ChangeToDay1(id){\r\n",
      "\tvar data=$(\"#\"+id).attr('value');\r\n",
      "\tdata=data.split(\"-\");\r\n",
      "\t$(\"#\"+id).attr('value',data[0]+'-'+data[1]+'-01');\r\n",
      "}\r\n",
      "\r\n",
      "//var gTypes=\"1.ç¾æ¶,2.ç¥¨æ¶,3.éæ¶,4.éµæ¶,5.æ¯åº,6.éæ¯,7.å¡æ¯,8.ç¥¨æ¯\";\r\n",
      "//var gTypes=\"1.ç¾æ¶,2.ç¥¨æ¶,3.éæ¶,4.éµæ¶,5.æ¯åº,8.ç¥¨æ¯\";\r\n",
      "var gTypes=\"1.ç¾éæ¶å",
      "¥,2.åè²¸æ¶å",
      "¥,3.éæµæ¶å",
      "¥,5.ç¾éæ¯åº,8.è²¨æ¬¾æ¯åº,9.è²¸æ¬¾æ¯åº\";\r\n",
      "\r\n",
      "$(document).ready(function(){\r\n",
      "\t$(\".DATE\").datepicker({dateFormat: 'yy-mm-dd'});\r\n",
      "\tvar d = new Date();\r\n",
      "\t$(\".DATE\").attr('value',d.getFullYear()+'-'+Add0((parseInt(d.getMonth())+1),2)+'-'+Add0(d.getDate(),2));\r\n",
      "\t\r\n",
      "\tChangeToDay1(\"OutStartDate\");\r\n",
      "\r\n",
      "\tInsertOption(\"InType\", gTypes);\r\n",
      "\tDetermineItems(\"InType\",\"InItem\");\r\n",
      "\t//ListDataByDate();\r\n",
      "\tCreateReport();\r\n",
      "});\r\n",
      "\r\n",
      "function pickupData(DataList,Date,Type,Item){\r\n",
      "\tfor(i in DataList){\r\n",
      "\t\tif(\r\n",
      "\t\t\tDataList[i][\"Date\"]==Date &&\r\n",
      "\t\t\tDataList[i][\"Type\"]==Type &&\r\n",
      "\t\t\tDataList[i][\"Item\"]==Item\r\n",
      "\t\t){\r\n",
      "\t\t\treturn DataList[i][\"Number\"];\r\n",
      "\t\t}\r\n",
      "\t}\r\n",
      "\treturn \"\";\r\n",
      "}\r\n",
      "\r\n",
      "function findDetail(Date,Type,Item){\r\n",
      "\tvar url=\"select * from Mina where Date=='\"+Date+\"' and Type=='\"+Type+\"' and Item=='\"+Item+\"' order by Item\";\r\n",
      "\tvar result=doRequest(urlPrefix+base64_encode(encodeURI(url)));\r\n",
      "\t//alert(result);\r\n",
      "\tvar ItemList=eval(result);\r\n",
      "\tItemList=ItemList.data;\r\n",
      "\t\r\n",
      "\tvar msg=\"\";\r\n",
      "\tfor(i in ItemList){\r\n",
      "\t\t//msg+=(\"[\"+Date+\"][\"+Type+\"][\"+Item+\"][\"+ItemList[i][\"Number\"]+\"][\"ItemList[i][\"Note1\"]+\"][\"ItemList[i][\"Note1\"]+\"\\n\");\r\n",
      "\t\tmsg+=\"[\"+Date+\"]\";\r\n",
      "\t\tmsg+=\"[\"+Type+\"]\";\r\n",
      "\t\tmsg+=\"[\"+Item+\"]\";\r\n",
      "\t\tmsg+=\"[\"+ItemList[i][\"Number\"]+\"]\";\r\n",
      "\t\tmsg+=\"[\"+ItemList[i][\"Note1\"]+\"]\";\r\n",
      "\t\tmsg+=\"[\"+ItemList[i][\"Note2\"]+\"]\";\r\n",
      "\t\tmsg+=\"\\n\";\r\n",
      "\t}\r\n",
      "\talert(msg);\r\n",
      "}\r\n",
      "\r\n",
      "$(\"#DoReport\").click(CreateReport);\r\n",
      "function CreateReport(){\r\n",
      "\tvar i,j,cols=0;\r\n",
      "\tvar url=\"select Type,Item,sum(Number) Number from Mina where Date>='\"+$(\"#OutStartDate\").attr('value')+\"' and Date<='\"+$(\"#OutStopDate\").attr('value')+\"' group by Item,Type order by Type,Item;\";\r\n",
      "\tvar result=doRequest(urlPrefix+base64_encode(encodeURI(url)));\r\n",
      "\t//alert(result);\r\n",
      "\tvar ItemList=eval(result);\r\n",
      "\tItemList=ItemList.data;\r\n",
      "\t\r\n",
      "\turl=\"select Date from Mina where Date>='\"+$(\"#OutStartDate\").attr('value')+\"' and Date<='\"+$(\"#OutStopDate\").attr('value')+\"' group by Date order by Date;\";\r\n",
      "\tvar result=doRequest(urlPrefix+base64_encode(encodeURI(url)));//alert(result);\r\n",
      "\tvar DateList=eval(result);\r\n",
      "\tDateList=DateList.data;\r\n",
      "\t\r\n",
      "\turl=\"select Date,Type,Item,sum(Number) Number from Mina where Date>='\"+$(\"#OutStartDate\").attr('value')+\"' and Date<='\"+$(\"#OutStopDate\").attr('value')+\"' group by Item,Type,Date;\";\r\n",
      "\tvar result=doRequest(urlPrefix+base64_encode(encodeURI(url)));//alert(result);\r\n",
      "\tvar DataList=eval(result);\r\n",
      "\tDataList=DataList.data;\r\n",
      "\t\r\n",
      "\turl=\"create temp table AAA(Type,Item);insert into AAA select Type,Item from Mina where Date>='\"+$(\"#OutStartDate\").attr('value')+\"' and Date<='\"+$(\"#OutStopDate\").attr('value')+\"' group by Type,Item ;select Type,Count(Item)Items from AAA group by Type;\";\r\n",
      "\tvar result=doRequest(urlPrefix+base64_encode(encodeURI(url)));//alert(result);\r\n",
      "\tvar TypeList=eval(result);\r\n",
      "\tTypeList=TypeList.data;\r\n",
      "\t\r\n",
      "\turl=\"select Type,sum(Number) sum from Mina where Date>='\"+$(\"#OutStartDate\").attr('value')+\"' and Date<='\"+$(\"#OutStopDate\").attr('value')+\"' group by Type;\";\r\n",
      "\tvar result=doRequest(urlPrefix+base64_encode(encodeURI(url)));//alert(result);\r\n",
      "\tvar TotalList=eval(result);\r\n",
      "\tTotalList=TotalList.data;\r\n",
      "\tvar Total=0;\r\n",
      "\tfor(i in TotalList){\r\n",
      "\t\tTotal+=MySum(TotalList[i][\"Type\"],TotalList[i][\"sum\"]);\r\n",
      "\t}\r\n",
      "\t\r\n",
      "\tvar html='';\r\n",
      "\thtml+=\"<table>\";\r\n",
      "\thtml+=\"<tr>\";\r\n",
      "\t\r\n",
      "\t\r\n",
      "\t\r\n",
      "\thtml+=\"<td align='center'>ç§ç®</td>\";\r\n",
      "\tcols=0;\r\n",
      "\tfor(i in TypeList){\r\n",
      "\t\t\thtml+=\"<td align='center' colspan='\"+TypeList[i][\"Items\"]+\"'>\"+TypeList[i][\"Type\"]+\"</td>\";\r\n",
      "\t\t\tcols+=parseInt(TypeList[i][\"Items\"]);\r\n",
      "\t}\r\n",
      "\thtml+=\"</tr><tr>\";\r\n",
      "\t\r\n",
      "\thtml+=\"<td align='center'>é ",
      "ç®</td>\";\r\n",
      "\tfor(i in ItemList){\r\n",
      "\t\t\thtml+=\"<td nowrap>\"+ItemList[i][\"Item\"]+\"</td>\";\r\n",
      "\t}\t\r\n",
      "\thtml+=\"</tr><tr>\";\r\n",
      "\t\r\n",
      "\tfor(i in DateList){\r\n",
      "\t\thtml+=\"<td nowrap>\"+DateList[i][\"Date\"]+\"</td>\";\r\n",
      "\t\t\tfor(j in ItemList){\r\n",
      "\t\t\t\tvar MyNumber=NumberAddSeparator(pickupData(DataList, DateList[i][\"Date\"], ItemList[j][\"Type\"], ItemList[j][\"Item\"]));\r\n",
      "\t\t\t\tif(MyNumber==\"\"){\r\n",
      "\t\t\t\t\thtml+=\"<td align='right'>\"+MyNumber+\"</td>\";\r\n",
      "\t\t\t\t}else{\r\n",
      "\t\t\t\t\thtml+=\"<td align='right' onClick='findDetail(\\\"\"+DateList[i][\"Date\"]+\"\\\",\\\"\"+ItemList[j][\"Type\"]+\"\\\",\\\"\"+ItemList[j][\"Item\"]+\"\\\")'>\"+MyNumber+\"</td>\";\r\n",
      "\t\t\t\t}\r\n",
      "\t\t\t}\t\t\r\n",
      "\t\thtml+=\"</tr><tr>\";\r\n",
      "\t}\r\n",
      "\t\r\n",
      "\thtml+=\"<td align='center'>å°è¨</td>\";\r\n",
      "\tfor(i in ItemList){\r\n",
      "\t\t\thtml+=\"<td align='right'>\"+NumberAddSeparator(ItemList[i][\"Number\"])+\"</td>\"; \r\n",
      "\t}\r\n",
      "\thtml+=\"</tr><tr>\";\r\n",
      "\t\r\n",
      "\thtml+=\"<td align='center'>åè¨</td>\";\r\n",
      "\tcols=0;\r\n",
      "\tfor(i in TypeList){\r\n",
      "\t\t\thtml+=\"<td align='center' colspan='\"+TypeList[i][\"Items\"]+\"'>\"+NumberAddSeparator(TotalList[i][\"sum\"])+\"</td>\";\r\n",
      "\t\t\tcols+=parseInt(TypeList[i][\"Items\"]);\r\n",
      "\t}\r\n",
      "\thtml+=\"</tr><tr>\";\r\n",
      "\t\r\n",
      "\thtml+=\"<td align='left' colspan='\"+(cols+1)+\"'>ç¸½è¨:\"+NumberAddSeparator(Total)+\"</td>\";\r\n",
      "\thtml+=\"</tr>\";\r\n",
      "\thtml+=\"</table>\";\r\n",
      "\t$(\"#result\").html(html);\r\n",
      "}\r\n",
      "\r\n",
      "function MySum(Type,Number){\r\n",
      "\tswitch(Type){\r\n",
      "\r\n",
      "//var gTypes=\"1.ç¾æ¶,2.ç¥¨æ¶,3.éæ¶,4.éµæ¶,5.æ¯åº,6.éæ¯,7.å¡æ¯,8.ç¥¨æ¯\";\r\n",
      "//var gTypes=\"1.ç¾æ¶,2.ç¥¨æ¶,3.éæ¶,4.éµæ¶,5.æ¯åº,8.ç¥¨æ¯\";\r\n",
      "//var gTypes=\"1.ç¾éæ¶å",
      "¥,2.åè²¸æ¶å",
      "¥,3.éæµæ¶å",
      "¥,5.ç¾éæ¯åº,8.è²¨æ¬¾æ¯åº,9.è²¸æ¬¾æ¯åº\";\r\n",
      "\t\tcase \"1.ç¾æ¶\": return parseInt(Number);\r\n",
      "\t\tcase \"1.ç¾éæ¶å",
      "¥\": return parseInt(Number);\r\n",
      "\t\tcase \"2.ç¥¨æ¶\": return parseInt(Number);\r\n",
      "\t\tcase \"2.åè²¸æ¶å",
      "¥\": return parseInt(Number);\r\n",
      "\t\tcase \"3.éæµæ¶å",
      "¥\": return parseInt(Number);\r\n",
      "\t\tcase \"4.éµæ¶\": return parseInt(Number);\r\n",
      "\t\tcase \"5.æ¯åº\": return (-parseInt(Number));\r\n",
      "\t\tcase \"5.ç¾éæ¯åº\": return (-parseInt(Number));\r\n",
      "\t\tcase \"5.ç¾æ¯\": return (-parseInt(Number));\r\n",
      "\t\tcase \"6.éæ¯\": return (-parseInt(Number));\r\n",
      "\t\tcase \"7.å¡æ¯\": return (-parseInt(Number));\r\n",
      "\t\tcase \"8.ç¥¨æ¯\": return (-parseInt(Number));\r\n",
      "\t\tcase \"8.è²¨æ¬¾æ¯åº\": return (-parseInt(Number));\r\n",
      "\t\tcase \"9.è²¸æ¬¾æ¯åº\": return (-parseInt(Number));\r\n",
      "\t}\r\n",
      "}\r\n",
      "\r\n",
      "function NumberAddSeparator(Number){\r\n",
      "\tvar ret='';\r\n",
      "\tvar UnderPoint='';\r\n",
      "\tvar chr;\r\n",
      "\tUnderPoint=Number.toString().split('.')[1];\r\n",
      "\tNumber=Number.toString().split('.')[0];\r\n",
      "\t\r\n",
      "\twhile(Number.length!=0){\r\n",
      "\t\tchr=Number.length%3;\r\n",
      "\t\tchr=(chr==0)?3:chr;\r\n",
      "\t\tret+=Number.slice(0,chr)+\",\";\r\n",
      "\t\tNumber=Number.slice(chr,Number.length);\r\n",
      "\t}\r\n",
      "\tif(ret[0]=='-' && ret[1]==',') ret=ret[0]+ret.slice(2,ret.length);\r\n",
      "\tret=ret.slice(0,ret.length-1);\r\n",
      "\tif(UnderPoint){\r\n",
      "\t\tret=ret+\".\"+UnderPoint;\r\n",
      "\t}\r\n",
      "\treturn ret;\r\n",
      "}\r\n",
      "\r\n",
      "function base64_encode (data) {\r\n",
      "  // http://kevin.vanzonneveld.net\r\n",
      "  // +   original by: Tyler Akins (http://rumkin.com)\r\n",
      "  // +   improved by: Bayron Guevara\r\n",
      "  // +   improved by: Thunder.m\r\n",
      "  // +   improved by: Kevin van Zonneveld (http://kevin.vanzonneveld.net)\r\n",
      "  // +   bugfixed by: Pellentesque Malesuada\r\n",
      "  // +   improved by: Kevin van Zonneveld (http://kevin.vanzonneveld.net)\r\n",
      "  // +   improved by: Rafa? Kukawski (http://kukawski.pl)\r\n",
      "  // *     example 1: base64_encode('Kevin van Zonneveld');\r\n",
      "  // *     returns 1: 'S2V2aW4gdmFuIFpvbm5ldmVsZA=='\r\n",
      "  // mozilla has this native\r\n",
      "  // - but breaks in 2.0.0.12!\r\n",
      "  //if (typeof this.window['btoa'] == 'function') {\r\n",
      "  //    return btoa(data);\r\n",
      "  //}\r\n",
      "  var b64 = \"ABCDEFGHIJKLMNOPQRSTUVWXYZabcdefghijklmnopqrstuvwxyz0123456789+/=\";\r\n",
      "  var o1, o2, o3, h1, h2, h3, h4, bits, i = 0,\r\n",
      "    ac = 0,\r\n",
      "    enc = \"\",\r\n",
      "    tmp_arr = [];\r\n",
      "\r\n",
      "  if (!data) {\r\n",
      "    return data;\r\n",
      "  }\r\n",
      "\r\n",
      "  do { // pack three octets into four hexets\r\n",
      "    o1 = data.charCodeAt(i++);\r\n",
      "    o2 = data.charCodeAt(i++);\r\n",
      "    o3 = data.charCodeAt(i++);\r\n",
      "\r\n",
      "    bits = o1 << 16 | o2 << 8 | o3;\r\n",
      "\r\n",
      "    h1 = bits >> 18 & 0x3f;\r\n",
      "    h2 = bits >> 12 & 0x3f;\r\n",
      "    h3 = bits >> 6 & 0x3f;\r\n",
      "    h4 = bits & 0x3f;\r\n",
      "\r\n",
      "    // use hexets to index into b64, and append result to encoded string\r\n",
      "    tmp_arr[ac++] = b64.charAt(h1) + b64.charAt(h2) + b64.charAt(h3) + b64.charAt(h4);\r\n",
      "  } while (i < data.length);\r\n",
      "\r\n",
      "  enc = tmp_arr.join('');\r\n",
      "\r\n",
      "  var r = data.length % 3;\r\n",
      "\r\n",
      "  return (r ? enc.slice(0, r - 3) : enc) + '==='.slice(r || 3);\r\n",
      "\r\n",
      "}\r\n",
      "//-------------------------------------------------------------------------------------------------------\r\n",
      "\tfunction doRequest(v) {\r\n",
      "\t\tif (window.XMLHttpRequest){// code for IE7+, Firefox, Chrome, Opera, Safari\r\n",
      "\t\t  xmlhttp=new XMLHttpRequest();\r\n",
      "\t\t}else{// code for IE6, IE5\r\n",
      "\t\t  xmlhttp=new ActiveXObject(\"Microsoft.XMLHTTP\");\r\n",
      "\t\t}\r\n",
      "\t\txmlhttp.open(\"GET\", v , false) ;\r\n",
      "\t\txmlhttp.setRequestHeader(\"Content-Type\", \"application/x-www-form-urlencoded\");\r\n",
      "\t\txmlhttp.setRequestHeader(\"Pragma\",\"no-cache\");\r\n",
      "\t\txmlhttp.setRequestHeader(\"Cache-Control\",\"no-cache\");\r\n",
      "\t\txmlhttp.setRequestHeader(\"Expires\",\"0\");\r\n",
      "\t\txmlhttp.setRequestHeader(\"Last-Modified\",\"Wed, 1 Jan 1997 00:00:00 GMT\");\r\n",
      "\t\txmlhttp.setRequestHeader(\"If-Modified-Since\",\"-1\");\r\n",
      "\t\txmlhttp.send();\r\n",
      "\t\treturn xmlhttp.responseText;\r\n",
      "\t}\r\n",
      "</Script>\r\n",
      "</html>\n"
     ]
    }
   ],
   "source": [
    "import requests\n",
    "\n",
    "res = requests.get('http://server.jmplus.com.tw/images/hd/mina/DailyRecord.htm')\n",
    "print(res.text)"
   ]
  },
  {
   "cell_type": "code",
   "execution_count": 6,
   "metadata": {
    "collapsed": false
   },
   "outputs": [
    {
     "ename": "AttributeError",
     "evalue": "'WebElement' object has no attribute 'key_down'",
     "output_type": "error",
     "traceback": [
      "\u001b[0;31m---------------------------------------------------------------------------\u001b[0m",
      "\u001b[0;31mAttributeError\u001b[0m                            Traceback (most recent call last)",
      "\u001b[0;32m<ipython-input-6-2069a1331abf>\u001b[0m in \u001b[0;36m<module>\u001b[0;34m()\u001b[0m\n\u001b[1;32m      9\u001b[0m \u001b[0mduedate\u001b[0m \u001b[0;34m=\u001b[0m \u001b[0mdriver\u001b[0m\u001b[0;34m.\u001b[0m\u001b[0mfind_element_by_id\u001b[0m\u001b[0;34m(\u001b[0m\u001b[0;34m'OutStopDate'\u001b[0m\u001b[0;34m)\u001b[0m\u001b[0;34m\u001b[0m\u001b[0m\n\u001b[1;32m     10\u001b[0m \u001b[0;34m\u001b[0m\u001b[0m\n\u001b[0;32m---> 11\u001b[0;31m \u001b[0mstartdate\u001b[0m\u001b[0;34m.\u001b[0m\u001b[0mkey_down\u001b[0m\u001b[0;34m(\u001b[0m\u001b[0;34m'2016-01-01'\u001b[0m\u001b[0;34m)\u001b[0m\u001b[0;34m\u001b[0m\u001b[0m\n\u001b[0m\u001b[1;32m     12\u001b[0m \u001b[0mduedate\u001b[0m\u001b[0;34m.\u001b[0m\u001b[0msend_keys\u001b[0m\u001b[0;34m(\u001b[0m\u001b[0;34m'2016-01-31'\u001b[0m\u001b[0;34m)\u001b[0m\u001b[0;34m\u001b[0m\u001b[0m\n\u001b[1;32m     13\u001b[0m \u001b[0;34m\u001b[0m\u001b[0m\n",
      "\u001b[0;31mAttributeError\u001b[0m: 'WebElement' object has no attribute 'key_down'"
     ]
    }
   ],
   "source": [
    "from selenium import webdriver\n",
    "import requests\n",
    "from bs4 import BeautifulSoup\n",
    "\n",
    "driver = webdriver.Chrome(executable_path=r'/Users/LuoJieLiang/Desktop/jmplus+/crawler/chromedriver')\n",
    "driver.get('http://server.jmplus.com.tw/images/hd/mina/DailyRecord.htm')\n",
    "\n",
    "startdate = driver.find_element_by_id('OutStartDate')\n",
    "duedate = driver.find_element_by_id('OutStopDate')\n",
    "\n",
    "startdate.send_keys('2016-01-01')\n",
    "duedate.send_keys('2016-01-31')\n",
    "\n",
    "\n",
    "res = driver.page_source\n",
    "driver.save_screenshot('/Users/LuoJieLiang/Desktop/jmplus+/crawler/chromedriver.png')\n",
    "soup = BeautifulSoup(res)\n",
    "\n",
    "# for tr in soup.find(id = 'result'):\n",
    "#     tds = tr.find_all('td')\n",
    "#     row = [elem.text.encode('utf-8') for elem in tds]   \n",
    "# print(row)\n",
    "\n",
    "\n",
    "results = soup.find(id = 'result')\n",
    "tab = soup.find_all('tr')\n",
    "\n",
    "\n",
    "print(\"===========================\")\n",
    "print(results.prettify()) \n"
   ]
  },
  {
   "cell_type": "code",
   "execution_count": null,
   "metadata": {
    "collapsed": true
   },
   "outputs": [],
   "source": []
  },
  {
   "cell_type": "code",
   "execution_count": null,
   "metadata": {
    "collapsed": true
   },
   "outputs": [],
   "source": [
    "        soup=BeautifulSoup(html)\n",
    "        for tr in soup.find_all('tr')[2:]:\n",
    "            tds = tr.find_all('td')\n",
    "            row = [elem.text.encode('utf-8') for elem in tds]\n",
    "            writer.writerow(row)"
   ]
  },
  {
   "cell_type": "code",
   "execution_count": null,
   "metadata": {
    "collapsed": true
   },
   "outputs": [],
   "source": [
    "driver.find_element_by_css_selector('#content b.ui-page-num > a.ui-page-next')\n",
    "form_textfield = driver.find_element_by_name('username')\n",
    "form_textfield.send_keys(\"admin\")\n",
    "find_element_by_id(id_)"
   ]
  },
  {
   "cell_type": "code",
   "execution_count": null,
   "metadata": {
    "collapsed": true
   },
   "outputs": [],
   "source": []
  },
  {
   "cell_type": "code",
   "execution_count": null,
   "metadata": {
    "collapsed": true
   },
   "outputs": [],
   "source": []
  },
  {
   "cell_type": "code",
   "execution_count": 37,
   "metadata": {
    "collapsed": false
   },
   "outputs": [
    {
     "name": "stdout",
     "output_type": "stream",
     "text": [
      "[<tr>\\n<td>\\u65e5\\u671f</td>\\n<td>\\u5e33\\u76ee</td>\\n<td>\\u9805\\u76ee</td>\\n<td>\\u91d1\\u984d</td>\\n<td>\\u8a3b\\u8a181</td>\\n<td>\\u8a3b\\u8a182</td>\\n<td>\\u65b0\\u589e</td>\\n</tr>, <tr>\\n<td><input class=\"DATE hasDatepicker\" id=\"InDate\" size=\"12\" type=\"text\" value=\"2017-01-30\"/></td>\\n<td>\\n<select id=\"InType\"><option value=\"1.\\u73fe\\u91d1\\u6536\\u5165\">1.\\u73fe\\u91d1\\u6536\\u5165</option><option value=\"2.\\u501f\\u8cb8\\u6536\\u5165\">2.\\u501f\\u8cb8\\u6536\\u5165</option><option value=\"3.\\u91d1\\u6d41\\u6536\\u5165\">3.\\u91d1\\u6d41\\u6536\\u5165</option><option value=\"5.\\u73fe\\u91d1\\u652f\\u51fa\">5.\\u73fe\\u91d1\\u652f\\u51fa</option><option value=\"8.\\u8ca8\\u6b3e\\u652f\\u51fa\">8.\\u8ca8\\u6b3e\\u652f\\u51fa</option><option value=\"9.\\u8cb8\\u6b3e\\u652f\\u51fa\">9.\\u8cb8\\u6b3e\\u652f\\u51fa</option></select>\\n</td>\\n<td>\\n<select id=\"InItem\"><option value=\"\\u8033\\u6a5f\\u73fe\\u91d1\">\\u8033\\u6a5f\\u73fe\\u91d1</option><option value=\"\\u5df2\\u4ed8\\u8cbb\\u7528\">\\u5df2\\u4ed8\\u8cbb\\u7528</option><option value=\"\\u806f\\u4fe1(V-M-J-\\u9280)\">\\u806f\\u4fe1(V-M-J-\\u9280)</option><option value=\"\\u806f\\u4fe1_AE\">\\u806f\\u4fe1_AE</option><option value=\"\\u806f\\u4fe1_\\u52063\\u671f\">\\u806f\\u4fe1_\\u52063\\u671f</option><option value=\"\\u806f\\u4fe1_\\u52066\\u671f\">\\u806f\\u4fe1_\\u52066\\u671f</option><option value=\"\\u806f\\u4fe1_\\u520612\\u671f\">\\u806f\\u4fe1_\\u520612\\u671f</option><option value=\"\\u570b\\u6cf0(V+M+J)\">\\u570b\\u6cf0(V+M+J)</option><option value=\"\\u570b\\u6cf0_\\u52063\\u671f\">\\u570b\\u6cf0_\\u52063\\u671f</option><option value=\"\\u570b\\u6cf0_\\u52066\\u671f\">\\u570b\\u6cf0_\\u52066\\u671f</option><option value=\"\\u570b\\u6cf0_\\u520612\\u671f\">\\u570b\\u6cf0_\\u520612\\u671f</option><option value=\"\\u4e2d\\u4fe1(V+M+J)\">\\u4e2d\\u4fe1(V+M+J)</option><option value=\"\\u4e2d\\u4fe1_\\u9280\\u806f\\u5361\">\\u4e2d\\u4fe1_\\u9280\\u806f\\u5361</option><option value=\"\\u4e2d\\u4fe1_\\u52063\\u671f\">\\u4e2d\\u4fe1_\\u52063\\u671f</option><option value=\"\\u4e2d\\u4fe1_\\u52066\\u671f\">\\u4e2d\\u4fe1_\\u52066\\u671f</option><option value=\"\\u4e2d\\u4fe1_\\u520612\\u671f\">\\u4e2d\\u4fe1_\\u520612\\u671f</option></select>\\n</td>\\n<td>\\n<input id=\"InNumber\" size=\"8\" type=\"text\"/>\\n</td>\\n<td>\\n<input id=\"InNote1\" type=\"text\"/>\\n</td>\\n<td>\\n<input id=\"InNote2\" type=\"text\"/>\\n</td>\\n<td>\\n<input id=\"InAdd\" type=\"button\" value=\"\\u65b0\\u589e\"/>\\n</td>\\n</tr>, <tr>\\n<td>\\n<input id=\"PreviousPage\" type=\"button\" value=\"&lt;\"/>\\n\\t\\t\\t\\t\\u7b2c<input id=\"OutPage\" size=\"4\" type=\"text\" value=\"1\"/>\\u9801\\n\\t\\t\\t\\t<input id=\"NextPage\" type=\"button\" value=\"&gt;\"/>\\n</td>\\n<td>\\u4e00\\u9801<input id=\"OutItems\" size=\"4\" type=\"text\" value=\"100\"/>\\u7b46\\u8cc7\\u6599</td>\\n<td><input id=\"PageQuery\" type=\"button\" value=\"\\u8df3\\u9801\"/></td>\\n</tr>, <tr>\\n<td>\\n<input class=\"DATE hasDatepicker\" id=\"OutStartDate\" size=\"12\" type=\"text\" value=\"2017-01-01\"/>\\n\\t\\t\\t\\t~\\n\\t\\t\\t\\t<input class=\"DATE hasDatepicker\" id=\"OutStopDate\" size=\"12\" type=\"text\" value=\"2017-01-30\"/>\\n</td>\\n<td>\\n<input id=\"DateQuery\" type=\"button\" value=\"\\u7d30\\u76ee\"/>\\n</td>\\n<td>\\n<input id=\"DoReport\" type=\"button\" value=\"\\u5831\\u8868\"/>\\n</td>\\n</tr>, <tr><td align=\"center\">\\u79d1\\u76ee</td><td align=\"center\" colspan=\"13\">1.\\u73fe\\u91d1\\u6536\\u5165</td><td align=\"center\" colspan=\"2\">3.\\u91d1\\u6d41\\u6536\\u5165</td><td align=\"center\" colspan=\"15\">5.\\u73fe\\u91d1\\u652f\\u51fa</td><td align=\"center\" colspan=\"3\">8.\\u8ca8\\u6b3e\\u652f\\u51fa</td><td align=\"center\" colspan=\"1\">9.\\u8cb8\\u6b3e\\u652f\\u51fa</td></tr>, <tr><td align=\"center\">\\u9805\\u76ee</td><td nowrap=\"\">\\u4e2d\\u4fe1(V+M+J)</td><td nowrap=\"\">\\u4e2d\\u4fe1_\\u520612\\u671f</td><td nowrap=\"\">\\u4e2d\\u4fe1_\\u52063\\u671f</td><td nowrap=\"\">\\u4e2d\\u4fe1_\\u9280\\u806f\\u5361</td><td nowrap=\"\">\\u570b\\u6cf0(V+M+J)</td><td nowrap=\"\">\\u570b\\u6cf0_\\u520612\\u671f</td><td nowrap=\"\">\\u570b\\u6cf0_\\u52063\\u671f</td><td nowrap=\"\">\\u5df2\\u4ed8\\u8cbb\\u7528</td><td nowrap=\"\">\\u8033\\u6a5f\\u73fe\\u91d1</td><td nowrap=\"\">\\u806f\\u4fe1_AE</td><td nowrap=\"\">\\u806f\\u4fe1_\\u520612\\u671f</td><td nowrap=\"\">\\u806f\\u4fe1_\\u52063\\u671f</td><td nowrap=\"\">\\u806f\\u4fe1_\\u52066\\u671f</td><td nowrap=\"\">\\u884c\\u92b7\\u88dc\\u52a9\\u6536\\u5165</td><td nowrap=\"\">\\u9280\\u884c\\u6536\\u5165</td><td nowrap=\"\">\\u5065\\u4fdd</td><td nowrap=\"\">\\u52de\\u4fdd</td><td nowrap=\"\">\\u52de\\u9000\\u63d0\\u64a5</td><td nowrap=\"\">\\u54e1\\u5de5\\u798f\\u5229</td><td nowrap=\"\">\\u570b\\u8cbf\\u95dc\\u7a05</td><td nowrap=\"\">\\u624b\\u7e8c\\u8cbb</td><td nowrap=\"\">\\u6587\\u5177</td><td nowrap=\"\">\\u670d\\u52d9\\u8cbb\\u7528</td><td nowrap=\"\">\\u71df\\u696d\\u7a05\\u8ce6</td><td nowrap=\"\">\\u79df\\u4efb\\u7ba1\\u7406</td><td nowrap=\"\">\\u85aa\\u8cc7</td><td nowrap=\"\">\\u904b\\u8cbb</td><td nowrap=\"\">\\u96dc\\u8cbb</td><td nowrap=\"\">\\u96fb\\u4fe1\\u8cbb</td><td nowrap=\"\">\\u9910\\u8cbb</td><td nowrap=\"\">\\u532f\\u6b3e</td><td nowrap=\"\">\\u652f\\u7968</td><td nowrap=\"\">\\u73fe\\u91d1</td><td nowrap=\"\">\\u5229\\u606f\\u652f\\u51fa</td></tr>, <tr><td nowrap=\"\">2017-01-01</td><td align=\"right\" onclick='findDetail(\"2017-01-01\",\"1.\\u73fe\\u91d1\\u6536\\u5165\",\"\\u4e2d\\u4fe1(V+M+J)\")'>55,870</td><td align=\"right\"></td><td align=\"right\"></td><td align=\"right\"></td><td align=\"right\" onclick='findDetail(\"2017-01-01\",\"1.\\u73fe\\u91d1\\u6536\\u5165\",\"\\u570b\\u6cf0(V+M+J)\")'>10,600</td><td align=\"right\"></td><td align=\"right\"></td><td align=\"right\" onclick='findDetail(\"2017-01-01\",\"1.\\u73fe\\u91d1\\u6536\\u5165\",\"\\u5df2\\u4ed8\\u8cbb\\u7528\")'>1,747</td><td align=\"right\" onclick='findDetail(\"2017-01-01\",\"1.\\u73fe\\u91d1\\u6536\\u5165\",\"\\u8033\\u6a5f\\u73fe\\u91d1\")'>56,100</td><td align=\"right\"></td><td align=\"right\"></td><td align=\"right\" onclick='findDetail(\"2017-01-01\",\"1.\\u73fe\\u91d1\\u6536\\u5165\",\"\\u806f\\u4fe1_\\u52063\\u671f\")'>4,650</td><td align=\"right\"></td><td align=\"right\"></td><td align=\"right\"></td><td align=\"right\"></td><td align=\"right\"></td><td align=\"right\"></td><td align=\"right\"></td><td align=\"right\"></td><td align=\"right\"></td><td align=\"right\"></td><td align=\"right\"></td><td align=\"right\"></td><td align=\"right\"></td><td align=\"right\"></td><td align=\"right\"></td><td align=\"right\"></td><td align=\"right\"></td><td align=\"right\" onclick='findDetail(\"2017-01-01\",\"5.\\u73fe\\u91d1\\u652f\\u51fa\",\"\\u9910\\u8cbb\")'>1,747</td><td align=\"right\"></td><td align=\"right\"></td><td align=\"right\"></td><td align=\"right\"></td></tr>, <tr><td nowrap=\"\">2017-01-02</td><td align=\"right\" onclick='findDetail(\"2017-01-02\",\"1.\\u73fe\\u91d1\\u6536\\u5165\",\"\\u4e2d\\u4fe1(V+M+J)\")'>78,910</td><td align=\"right\"></td><td align=\"right\"></td><td align=\"right\"></td><td align=\"right\" onclick='findDetail(\"2017-01-02\",\"1.\\u73fe\\u91d1\\u6536\\u5165\",\"\\u570b\\u6cf0(V+M+J)\")'>8,770</td><td align=\"right\"></td><td align=\"right\"></td><td align=\"right\" onclick='findDetail(\"2017-01-02\",\"1.\\u73fe\\u91d1\\u6536\\u5165\",\"\\u5df2\\u4ed8\\u8cbb\\u7528\")'>945</td><td align=\"right\" onclick='findDetail(\"2017-01-02\",\"1.\\u73fe\\u91d1\\u6536\\u5165\",\"\\u8033\\u6a5f\\u73fe\\u91d1\")'>127,400</td><td align=\"right\"></td><td align=\"right\"></td><td align=\"right\"></td><td align=\"right\"></td><td align=\"right\"></td><td align=\"right\"></td><td align=\"right\"></td><td align=\"right\"></td><td align=\"right\"></td><td align=\"right\"></td><td align=\"right\"></td><td align=\"right\"></td><td align=\"right\"></td><td align=\"right\"></td><td align=\"right\"></td><td align=\"right\"></td><td align=\"right\"></td><td align=\"right\"></td><td align=\"right\"></td><td align=\"right\"></td><td align=\"right\" onclick='findDetail(\"2017-01-02\",\"5.\\u73fe\\u91d1\\u652f\\u51fa\",\"\\u9910\\u8cbb\")'>945</td><td align=\"right\"></td><td align=\"right\"></td><td align=\"right\"></td><td align=\"right\"></td></tr>, <tr><td nowrap=\"\">2017-01-03</td><td align=\"right\" onclick='findDetail(\"2017-01-03\",\"1.\\u73fe\\u91d1\\u6536\\u5165\",\"\\u4e2d\\u4fe1(V+M+J)\")'>104,550</td><td align=\"right\"></td><td align=\"right\"></td><td align=\"right\"></td><td align=\"right\"></td><td align=\"right\"></td><td align=\"right\"></td><td align=\"right\" onclick='findDetail(\"2017-01-03\",\"1.\\u73fe\\u91d1\\u6536\\u5165\",\"\\u5df2\\u4ed8\\u8cbb\\u7528\")'>3,036</td><td align=\"right\" onclick='findDetail(\"2017-01-03\",\"1.\\u73fe\\u91d1\\u6536\\u5165\",\"\\u8033\\u6a5f\\u73fe\\u91d1\")'>20,300</td><td align=\"right\" onclick='findDetail(\"2017-01-03\",\"1.\\u73fe\\u91d1\\u6536\\u5165\",\"\\u806f\\u4fe1_AE\")'>750</td><td align=\"right\"></td><td align=\"right\"></td><td align=\"right\"></td><td align=\"right\"></td><td align=\"right\"></td><td align=\"right\"></td><td align=\"right\"></td><td align=\"right\"></td><td align=\"right\"></td><td align=\"right\"></td><td align=\"right\"></td><td align=\"right\"></td><td align=\"right\"></td><td align=\"right\"></td><td align=\"right\"></td><td align=\"right\"></td><td align=\"right\" onclick='findDetail(\"2017-01-03\",\"5.\\u73fe\\u91d1\\u652f\\u51fa\",\"\\u904b\\u8cbb\")'>2,476</td><td align=\"right\"></td><td align=\"right\"></td><td align=\"right\" onclick='findDetail(\"2017-01-03\",\"5.\\u73fe\\u91d1\\u652f\\u51fa\",\"\\u9910\\u8cbb\")'>560</td><td align=\"right\"></td><td align=\"right\" onclick='findDetail(\"2017-01-03\",\"8.\\u8ca8\\u6b3e\\u652f\\u51fa\",\"\\u652f\\u7968\")'>979,149</td><td align=\"right\"></td><td align=\"right\"></td></tr>, <tr><td nowrap=\"\">2017-01-04</td><td align=\"right\" onclick='findDetail(\"2017-01-04\",\"1.\\u73fe\\u91d1\\u6536\\u5165\",\"\\u4e2d\\u4fe1(V+M+J)\")'>14,340</td><td align=\"right\"></td><td align=\"right\"></td><td align=\"right\" onclick='findDetail(\"2017-01-04\",\"1.\\u73fe\\u91d1\\u6536\\u5165\",\"\\u4e2d\\u4fe1_\\u9280\\u806f\\u5361\")'>3,200</td><td align=\"right\" onclick='findDetail(\"2017-01-04\",\"1.\\u73fe\\u91d1\\u6536\\u5165\",\"\\u570b\\u6cf0(V+M+J)\")'>1,100</td><td align=\"right\"></td><td align=\"right\"></td><td align=\"right\" onclick='findDetail(\"2017-01-04\",\"1.\\u73fe\\u91d1\\u6536\\u5165\",\"\\u5df2\\u4ed8\\u8cbb\\u7528\")'>988</td><td align=\"right\" onclick='findDetail(\"2017-01-04\",\"1.\\u73fe\\u91d1\\u6536\\u5165\",\"\\u8033\\u6a5f\\u73fe\\u91d1\")'>24,600</td><td align=\"right\" onclick='findDetail(\"2017-01-04\",\"1.\\u73fe\\u91d1\\u6536\\u5165\",\"\\u806f\\u4fe1_AE\")'>1,100</td><td align=\"right\"></td><td align=\"right\" onclick='findDetail(\"2017-01-04\",\"1.\\u73fe\\u91d1\\u6536\\u5165\",\"\\u806f\\u4fe1_\\u52063\\u671f\")'>11,500</td><td align=\"right\"></td><td align=\"right\"></td><td align=\"right\"></td><td align=\"right\"></td><td align=\"right\"></td><td align=\"right\"></td><td align=\"right\"></td><td align=\"right\"></td><td align=\"right\"></td><td align=\"right\"></td><td align=\"right\"></td><td align=\"right\"></td><td align=\"right\" onclick='findDetail(\"2017-01-04\",\"5.\\u73fe\\u91d1\\u652f\\u51fa\",\"\\u79df\\u4efb\\u7ba1\\u7406\")'>58,000</td><td align=\"right\"></td><td align=\"right\" onclick='findDetail(\"2017-01-04\",\"5.\\u73fe\\u91d1\\u652f\\u51fa\",\"\\u904b\\u8cbb\")'>190</td><td align=\"right\" onclick='findDetail(\"2017-01-04\",\"5.\\u73fe\\u91d1\\u652f\\u51fa\",\"\\u96dc\\u8cbb\")'>178</td><td align=\"right\"></td><td align=\"right\" onclick='findDetail(\"2017-01-04\",\"5.\\u73fe\\u91d1\\u652f\\u51fa\",\"\\u9910\\u8cbb\")'>620</td><td align=\"right\" onclick='findDetail(\"2017-01-04\",\"8.\\u8ca8\\u6b3e\\u652f\\u51fa\",\"\\u532f\\u6b3e\")'>402,775</td><td align=\"right\"></td><td align=\"right\"></td><td align=\"right\" onclick='findDetail(\"2017-01-04\",\"9.\\u8cb8\\u6b3e\\u652f\\u51fa\",\"\\u5229\\u606f\\u652f\\u51fa\")'>14,094</td></tr>, <tr><td nowrap=\"\">2017-01-05</td><td align=\"right\" onclick='findDetail(\"2017-01-05\",\"1.\\u73fe\\u91d1\\u6536\\u5165\",\"\\u4e2d\\u4fe1(V+M+J)\")'>13,040</td><td align=\"right\"></td><td align=\"right\" onclick='findDetail(\"2017-01-05\",\"1.\\u73fe\\u91d1\\u6536\\u5165\",\"\\u4e2d\\u4fe1_\\u52063\\u671f\")'>6,290</td><td align=\"right\"></td><td align=\"right\" onclick='findDetail(\"2017-01-05\",\"1.\\u73fe\\u91d1\\u6536\\u5165\",\"\\u570b\\u6cf0(V+M+J)\")'>16,500</td><td align=\"right\"></td><td align=\"right\"></td><td align=\"right\" onclick='findDetail(\"2017-01-05\",\"1.\\u73fe\\u91d1\\u6536\\u5165\",\"\\u5df2\\u4ed8\\u8cbb\\u7528\")'>1,685</td><td align=\"right\" onclick='findDetail(\"2017-01-05\",\"1.\\u73fe\\u91d1\\u6536\\u5165\",\"\\u8033\\u6a5f\\u73fe\\u91d1\")'>42,700</td><td align=\"right\"></td><td align=\"right\"></td><td align=\"right\" onclick='findDetail(\"2017-01-05\",\"1.\\u73fe\\u91d1\\u6536\\u5165\",\"\\u806f\\u4fe1_\\u52063\\u671f\")'>5,700</td><td align=\"right\" onclick='findDetail(\"2017-01-05\",\"1.\\u73fe\\u91d1\\u6536\\u5165\",\"\\u806f\\u4fe1_\\u52066\\u671f\")'>7,790</td><td align=\"right\"></td><td align=\"right\"></td><td align=\"right\"></td><td align=\"right\"></td><td align=\"right\"></td><td align=\"right\"></td><td align=\"right\"></td><td align=\"right\" onclick='findDetail(\"2017-01-05\",\"5.\\u73fe\\u91d1\\u652f\\u51fa\",\"\\u624b\\u7e8c\\u8cbb\")'>126</td><td align=\"right\"></td><td align=\"right\"></td><td align=\"right\"></td><td align=\"right\"></td><td align=\"right\"></td><td align=\"right\" onclick='findDetail(\"2017-01-05\",\"5.\\u73fe\\u91d1\\u652f\\u51fa\",\"\\u904b\\u8cbb\")'>430</td><td align=\"right\"></td><td align=\"right\"></td><td align=\"right\" onclick='findDetail(\"2017-01-05\",\"5.\\u73fe\\u91d1\\u652f\\u51fa\",\"\\u9910\\u8cbb\")'>555</td><td align=\"right\"></td><td align=\"right\" onclick='findDetail(\"2017-01-05\",\"8.\\u8ca8\\u6b3e\\u652f\\u51fa\",\"\\u652f\\u7968\")'>226,165</td><td align=\"right\" onclick='findDetail(\"2017-01-05\",\"8.\\u8ca8\\u6b3e\\u652f\\u51fa\",\"\\u73fe\\u91d1\")'>700</td><td align=\"right\" onclick='findDetail(\"2017-01-05\",\"9.\\u8cb8\\u6b3e\\u652f\\u51fa\",\"\\u5229\\u606f\\u652f\\u51fa\")'>14,519</td></tr>, <tr><td nowrap=\"\">2017-01-06</td><td align=\"right\" onclick='findDetail(\"2017-01-06\",\"1.\\u73fe\\u91d1\\u6536\\u5165\",\"\\u4e2d\\u4fe1(V+M+J)\")'>38,250</td><td align=\"right\"></td><td align=\"right\"></td><td align=\"right\"></td><td align=\"right\"></td><td align=\"right\"></td><td align=\"right\"></td><td align=\"right\" onclick='findDetail(\"2017-01-06\",\"1.\\u73fe\\u91d1\\u6536\\u5165\",\"\\u5df2\\u4ed8\\u8cbb\\u7528\")'>10,780</td><td align=\"right\" onclick='findDetail(\"2017-01-06\",\"1.\\u73fe\\u91d1\\u6536\\u5165\",\"\\u8033\\u6a5f\\u73fe\\u91d1\")'>104,100</td><td align=\"right\"></td><td align=\"right\"></td><td align=\"right\"></td><td align=\"right\"></td><td align=\"right\"></td><td align=\"right\"></td><td align=\"right\"></td><td align=\"right\"></td><td align=\"right\"></td><td align=\"right\"></td><td align=\"right\"></td><td align=\"right\"></td><td align=\"right\"></td><td align=\"right\" onclick='findDetail(\"2017-01-06\",\"5.\\u73fe\\u91d1\\u652f\\u51fa\",\"\\u670d\\u52d9\\u8cbb\\u7528\")'>2,916</td><td align=\"right\"></td><td align=\"right\"></td><td align=\"right\"></td><td align=\"right\" onclick='findDetail(\"2017-01-06\",\"5.\\u73fe\\u91d1\\u652f\\u51fa\",\"\\u904b\\u8cbb\")'>15,177.0</td><td align=\"right\"></td><td align=\"right\" onclick='findDetail(\"2017-01-06\",\"5.\\u73fe\\u91d1\\u652f\\u51fa\",\"\\u96fb\\u4fe1\\u8cbb\")'>682</td><td align=\"right\" onclick='findDetail(\"2017-01-06\",\"5.\\u73fe\\u91d1\\u652f\\u51fa\",\"\\u9910\\u8cbb\")'>295</td><td align=\"right\" onclick='findDetail(\"2017-01-06\",\"8.\\u8ca8\\u6b3e\\u652f\\u51fa\",\"\\u532f\\u6b3e\")'>262,154</td><td align=\"right\"></td><td align=\"right\"></td><td align=\"right\"></td></tr>, <tr><td nowrap=\"\">2017-01-07</td><td align=\"right\" onclick='findDetail(\"2017-01-07\",\"1.\\u73fe\\u91d1\\u6536\\u5165\",\"\\u4e2d\\u4fe1(V+M+J)\")'>41,350</td><td align=\"right\"></td><td align=\"right\"></td><td align=\"right\"></td><td align=\"right\" onclick='findDetail(\"2017-01-07\",\"1.\\u73fe\\u91d1\\u6536\\u5165\",\"\\u570b\\u6cf0(V+M+J)\")'>1,750</td><td align=\"right\"></td><td align=\"right\"></td><td align=\"right\" onclick='findDetail(\"2017-01-07\",\"1.\\u73fe\\u91d1\\u6536\\u5165\",\"\\u5df2\\u4ed8\\u8cbb\\u7528\")'>1,680</td><td align=\"right\" onclick='findDetail(\"2017-01-07\",\"1.\\u73fe\\u91d1\\u6536\\u5165\",\"\\u8033\\u6a5f\\u73fe\\u91d1\")'>98,300</td><td align=\"right\" onclick='findDetail(\"2017-01-07\",\"1.\\u73fe\\u91d1\\u6536\\u5165\",\"\\u806f\\u4fe1_AE\")'>15,000</td><td align=\"right\"></td><td align=\"right\"></td><td align=\"right\"></td><td align=\"right\"></td><td align=\"right\"></td><td align=\"right\"></td><td align=\"right\"></td><td align=\"right\"></td><td align=\"right\"></td><td align=\"right\"></td><td align=\"right\"></td><td align=\"right\"></td><td align=\"right\"></td><td align=\"right\"></td><td align=\"right\"></td><td align=\"right\"></td><td align=\"right\" onclick='findDetail(\"2017-01-07\",\"5.\\u73fe\\u91d1\\u652f\\u51fa\",\"\\u904b\\u8cbb\")'>280</td><td align=\"right\"></td><td align=\"right\"></td><td align=\"right\" onclick='findDetail(\"2017-01-07\",\"5.\\u73fe\\u91d1\\u652f\\u51fa\",\"\\u9910\\u8cbb\")'>1,400</td><td align=\"right\"></td><td align=\"right\"></td><td align=\"right\"></td><td align=\"right\"></td></tr>, <tr><td nowrap=\"\">2017-01-08</td><td align=\"right\" onclick='findDetail(\"2017-01-08\",\"1.\\u73fe\\u91d1\\u6536\\u5165\",\"\\u4e2d\\u4fe1(V+M+J)\")'>43,160</td><td align=\"right\"></td><td align=\"right\"></td><td align=\"right\"></td><td align=\"right\" onclick='findDetail(\"2017-01-08\",\"1.\\u73fe\\u91d1\\u6536\\u5165\",\"\\u570b\\u6cf0(V+M+J)\")'>4,680</td><td align=\"right\"></td><td align=\"right\"></td><td align=\"right\" onclick='findDetail(\"2017-01-08\",\"1.\\u73fe\\u91d1\\u6536\\u5165\",\"\\u5df2\\u4ed8\\u8cbb\\u7528\")'>1,019</td><td align=\"right\" onclick='findDetail(\"2017-01-08\",\"1.\\u73fe\\u91d1\\u6536\\u5165\",\"\\u8033\\u6a5f\\u73fe\\u91d1\")'>61,900</td><td align=\"right\"></td><td align=\"right\"></td><td align=\"right\" onclick='findDetail(\"2017-01-08\",\"1.\\u73fe\\u91d1\\u6536\\u5165\",\"\\u806f\\u4fe1_\\u52063\\u671f\")'>30,000</td><td align=\"right\"></td><td align=\"right\"></td><td align=\"right\"></td><td align=\"right\"></td><td align=\"right\"></td><td align=\"right\"></td><td align=\"right\"></td><td align=\"right\"></td><td align=\"right\"></td><td align=\"right\"></td><td align=\"right\"></td><td align=\"right\"></td><td align=\"right\"></td><td align=\"right\"></td><td align=\"right\"></td><td align=\"right\"></td><td align=\"right\"></td><td align=\"right\" onclick='findDetail(\"2017-01-08\",\"5.\\u73fe\\u91d1\\u652f\\u51fa\",\"\\u9910\\u8cbb\")'>1,019</td><td align=\"right\"></td><td align=\"right\"></td><td align=\"right\"></td><td align=\"right\"></td></tr>, <tr><td nowrap=\"\">2017-01-09</td><td align=\"right\" onclick='findDetail(\"2017-01-09\",\"1.\\u73fe\\u91d1\\u6536\\u5165\",\"\\u4e2d\\u4fe1(V+M+J)\")'>31,100</td><td align=\"right\"></td><td align=\"right\"></td><td align=\"right\"></td><td align=\"right\"></td><td align=\"right\"></td><td align=\"right\"></td><td align=\"right\" onclick='findDetail(\"2017-01-09\",\"1.\\u73fe\\u91d1\\u6536\\u5165\",\"\\u5df2\\u4ed8\\u8cbb\\u7528\")'>9,137</td><td align=\"right\" onclick='findDetail(\"2017-01-09\",\"1.\\u73fe\\u91d1\\u6536\\u5165\",\"\\u8033\\u6a5f\\u73fe\\u91d1\")'>24,000</td><td align=\"right\" onclick='findDetail(\"2017-01-09\",\"1.\\u73fe\\u91d1\\u6536\\u5165\",\"\\u806f\\u4fe1_AE\")'>15,000</td><td align=\"right\"></td><td align=\"right\" onclick='findDetail(\"2017-01-09\",\"1.\\u73fe\\u91d1\\u6536\\u5165\",\"\\u806f\\u4fe1_\\u52063\\u671f\")'>19,100</td><td align=\"right\"></td><td align=\"right\"></td><td align=\"right\"></td><td align=\"right\"></td><td align=\"right\"></td><td align=\"right\"></td><td align=\"right\"></td><td align=\"right\" onclick='findDetail(\"2017-01-09\",\"5.\\u73fe\\u91d1\\u652f\\u51fa\",\"\\u570b\\u8cbf\\u95dc\\u7a05\")'>5,035</td><td align=\"right\"></td><td align=\"right\"></td><td align=\"right\"></td><td align=\"right\"></td><td align=\"right\"></td><td align=\"right\" onclick='findDetail(\"2017-01-09\",\"5.\\u73fe\\u91d1\\u652f\\u51fa\",\"\\u85aa\\u8cc7\")'>68,323</td><td align=\"right\" onclick='findDetail(\"2017-01-09\",\"5.\\u73fe\\u91d1\\u652f\\u51fa\",\"\\u904b\\u8cbb\")'>3,632</td><td align=\"right\"></td><td align=\"right\"></td><td align=\"right\" onclick='findDetail(\"2017-01-09\",\"5.\\u73fe\\u91d1\\u652f\\u51fa\",\"\\u9910\\u8cbb\")'>470</td><td align=\"right\" onclick='findDetail(\"2017-01-09\",\"8.\\u8ca8\\u6b3e\\u652f\\u51fa\",\"\\u532f\\u6b3e\")'>55,204</td><td align=\"right\" onclick='findDetail(\"2017-01-09\",\"8.\\u8ca8\\u6b3e\\u652f\\u51fa\",\"\\u652f\\u7968\")'>36,990</td><td align=\"right\"></td><td align=\"right\"></td></tr>, <tr><td nowrap=\"\">2017-01-10</td><td align=\"right\" onclick='findDetail(\"2017-01-10\",\"1.\\u73fe\\u91d1\\u6536\\u5165\",\"\\u4e2d\\u4fe1(V+M+J)\")'>18,900</td><td align=\"right\"></td><td align=\"right\"></td><td align=\"right\"></td><td align=\"right\" onclick='findDetail(\"2017-01-10\",\"1.\\u73fe\\u91d1\\u6536\\u5165\",\"\\u570b\\u6cf0(V+M+J)\")'>900</td><td align=\"right\"></td><td align=\"right\"></td><td align=\"right\" onclick='findDetail(\"2017-01-10\",\"1.\\u73fe\\u91d1\\u6536\\u5165\",\"\\u5df2\\u4ed8\\u8cbb\\u7528\")'>1,905</td><td align=\"right\" onclick='findDetail(\"2017-01-10\",\"1.\\u73fe\\u91d1\\u6536\\u5165\",\"\\u8033\\u6a5f\\u73fe\\u91d1\")'>56,200</td><td align=\"right\"></td><td align=\"right\"></td><td align=\"right\"></td><td align=\"right\"></td><td align=\"right\"></td><td align=\"right\"></td><td align=\"right\"></td><td align=\"right\"></td><td align=\"right\"></td><td align=\"right\"></td><td align=\"right\"></td><td align=\"right\"></td><td align=\"right\"></td><td align=\"right\"></td><td align=\"right\"></td><td align=\"right\"></td><td align=\"right\"></td><td align=\"right\" onclick='findDetail(\"2017-01-10\",\"5.\\u73fe\\u91d1\\u652f\\u51fa\",\"\\u904b\\u8cbb\")'>25</td><td align=\"right\"></td><td align=\"right\"></td><td align=\"right\" onclick='findDetail(\"2017-01-10\",\"5.\\u73fe\\u91d1\\u652f\\u51fa\",\"\\u9910\\u8cbb\")'>160</td><td align=\"right\" onclick='findDetail(\"2017-01-10\",\"8.\\u8ca8\\u6b3e\\u652f\\u51fa\",\"\\u532f\\u6b3e\")'>10,489</td><td align=\"right\" onclick='findDetail(\"2017-01-10\",\"8.\\u8ca8\\u6b3e\\u652f\\u51fa\",\"\\u652f\\u7968\")'>16,800</td><td align=\"right\" onclick='findDetail(\"2017-01-10\",\"8.\\u8ca8\\u6b3e\\u652f\\u51fa\",\"\\u73fe\\u91d1\")'>1,350</td><td align=\"right\"></td></tr>, <tr><td nowrap=\"\">2017-01-11</td><td align=\"right\" onclick='findDetail(\"2017-01-11\",\"1.\\u73fe\\u91d1\\u6536\\u5165\",\"\\u4e2d\\u4fe1(V+M+J)\")'>36,680</td><td align=\"right\"></td><td align=\"right\"></td><td align=\"right\"></td><td align=\"right\"></td><td align=\"right\"></td><td align=\"right\"></td><td align=\"right\" onclick='findDetail(\"2017-01-11\",\"1.\\u73fe\\u91d1\\u6536\\u5165\",\"\\u5df2\\u4ed8\\u8cbb\\u7528\")'>485</td><td align=\"right\" onclick='findDetail(\"2017-01-11\",\"1.\\u73fe\\u91d1\\u6536\\u5165\",\"\\u8033\\u6a5f\\u73fe\\u91d1\")'>24,300</td><td align=\"right\"></td><td align=\"right\"></td><td align=\"right\"></td><td align=\"right\"></td><td align=\"right\"></td><td align=\"right\"></td><td align=\"right\"></td><td align=\"right\"></td><td align=\"right\"></td><td align=\"right\"></td><td align=\"right\"></td><td align=\"right\"></td><td align=\"right\"></td><td align=\"right\"></td><td align=\"right\"></td><td align=\"right\"></td><td align=\"right\"></td><td align=\"right\" onclick='findDetail(\"2017-01-11\",\"5.\\u73fe\\u91d1\\u652f\\u51fa\",\"\\u904b\\u8cbb\")'>160</td><td align=\"right\"></td><td align=\"right\"></td><td align=\"right\" onclick='findDetail(\"2017-01-11\",\"5.\\u73fe\\u91d1\\u652f\\u51fa\",\"\\u9910\\u8cbb\")'>325</td><td align=\"right\"></td><td align=\"right\"></td><td align=\"right\"></td><td align=\"right\"></td></tr>, <tr><td nowrap=\"\">2017-01-12</td><td align=\"right\" onclick='findDetail(\"2017-01-12\",\"1.\\u73fe\\u91d1\\u6536\\u5165\",\"\\u4e2d\\u4fe1(V+M+J)\")'>7,400</td><td align=\"right\"></td><td align=\"right\"></td><td align=\"right\"></td><td align=\"right\"></td><td align=\"right\"></td><td align=\"right\"></td><td align=\"right\" onclick='findDetail(\"2017-01-12\",\"1.\\u73fe\\u91d1\\u6536\\u5165\",\"\\u5df2\\u4ed8\\u8cbb\\u7528\")'>11,309</td><td align=\"right\" onclick='findDetail(\"2017-01-12\",\"1.\\u73fe\\u91d1\\u6536\\u5165\",\"\\u8033\\u6a5f\\u73fe\\u91d1\")'>3,500</td><td align=\"right\"></td><td align=\"right\"></td><td align=\"right\"></td><td align=\"right\"></td><td align=\"right\" onclick='findDetail(\"2017-01-12\",\"3.\\u91d1\\u6d41\\u6536\\u5165\",\"\\u884c\\u92b7\\u88dc\\u52a9\\u6536\\u5165\")'>15,100</td><td align=\"right\"></td><td align=\"right\"></td><td align=\"right\"></td><td align=\"right\"></td><td align=\"right\"></td><td align=\"right\"></td><td align=\"right\"></td><td align=\"right\"></td><td align=\"right\"></td><td align=\"right\"></td><td align=\"right\"></td><td align=\"right\"></td><td align=\"right\" onclick='findDetail(\"2017-01-12\",\"5.\\u73fe\\u91d1\\u652f\\u51fa\",\"\\u904b\\u8cbb\")'>1,272</td><td align=\"right\"></td><td align=\"right\"></td><td align=\"right\" onclick='findDetail(\"2017-01-12\",\"5.\\u73fe\\u91d1\\u652f\\u51fa\",\"\\u9910\\u8cbb\")'>8,637</td><td align=\"right\"></td><td align=\"right\" onclick='findDetail(\"2017-01-12\",\"8.\\u8ca8\\u6b3e\\u652f\\u51fa\",\"\\u652f\\u7968\")'>139,975</td><td align=\"right\" onclick='findDetail(\"2017-01-12\",\"8.\\u8ca8\\u6b3e\\u652f\\u51fa\",\"\\u73fe\\u91d1\")'>1,400</td><td align=\"right\"></td></tr>, <tr><td nowrap=\"\">2017-01-13</td><td align=\"right\" onclick='findDetail(\"2017-01-13\",\"1.\\u73fe\\u91d1\\u6536\\u5165\",\"\\u4e2d\\u4fe1(V+M+J)\")'>16,920</td><td align=\"right\"></td><td align=\"right\"></td><td align=\"right\"></td><td align=\"right\" onclick='findDetail(\"2017-01-13\",\"1.\\u73fe\\u91d1\\u6536\\u5165\",\"\\u570b\\u6cf0(V+M+J)\")'>9,280</td><td align=\"right\"></td><td align=\"right\"></td><td align=\"right\" onclick='findDetail(\"2017-01-13\",\"1.\\u73fe\\u91d1\\u6536\\u5165\",\"\\u5df2\\u4ed8\\u8cbb\\u7528\")'>4,463</td><td align=\"right\" onclick='findDetail(\"2017-01-13\",\"1.\\u73fe\\u91d1\\u6536\\u5165\",\"\\u8033\\u6a5f\\u73fe\\u91d1\")'>98,000</td><td align=\"right\"></td><td align=\"right\"></td><td align=\"right\"></td><td align=\"right\"></td><td align=\"right\"></td><td align=\"right\"></td><td align=\"right\"></td><td align=\"right\"></td><td align=\"right\"></td><td align=\"right\"></td><td align=\"right\" onclick='findDetail(\"2017-01-13\",\"5.\\u73fe\\u91d1\\u652f\\u51fa\",\"\\u570b\\u8cbf\\u95dc\\u7a05\")'>3,843</td><td align=\"right\"></td><td align=\"right\"></td><td align=\"right\" onclick='findDetail(\"2017-01-13\",\"5.\\u73fe\\u91d1\\u652f\\u51fa\",\"\\u670d\\u52d9\\u8cbb\\u7528\")'>10,470</td><td align=\"right\"></td><td align=\"right\"></td><td align=\"right\"></td><td align=\"right\" onclick='findDetail(\"2017-01-13\",\"5.\\u73fe\\u91d1\\u652f\\u51fa\",\"\\u904b\\u8cbb\")'>250</td><td align=\"right\"></td><td align=\"right\"></td><td align=\"right\" onclick='findDetail(\"2017-01-13\",\"5.\\u73fe\\u91d1\\u652f\\u51fa\",\"\\u9910\\u8cbb\")'>370</td><td align=\"right\"></td><td align=\"right\" onclick='findDetail(\"2017-01-13\",\"8.\\u8ca8\\u6b3e\\u652f\\u51fa\",\"\\u652f\\u7968\")'>365,280</td><td align=\"right\"></td><td align=\"right\"></td></tr>, <tr><td nowrap=\"\">2017-01-14</td><td align=\"right\" onclick='findDetail(\"2017-01-14\",\"1.\\u73fe\\u91d1\\u6536\\u5165\",\"\\u4e2d\\u4fe1(V+M+J)\")'>65,790</td><td align=\"right\" onclick='findDetail(\"2017-01-14\",\"1.\\u73fe\\u91d1\\u6536\\u5165\",\"\\u4e2d\\u4fe1_\\u520612\\u671f\")'>48,900</td><td align=\"right\"></td><td align=\"right\"></td><td align=\"right\" onclick='findDetail(\"2017-01-14\",\"1.\\u73fe\\u91d1\\u6536\\u5165\",\"\\u570b\\u6cf0(V+M+J)\")'>1,750</td><td align=\"right\"></td><td align=\"right\" onclick='findDetail(\"2017-01-14\",\"1.\\u73fe\\u91d1\\u6536\\u5165\",\"\\u570b\\u6cf0_\\u52063\\u671f\")'>12,000</td><td align=\"right\" onclick='findDetail(\"2017-01-14\",\"1.\\u73fe\\u91d1\\u6536\\u5165\",\"\\u5df2\\u4ed8\\u8cbb\\u7528\")'>900</td><td align=\"right\" onclick='findDetail(\"2017-01-14\",\"1.\\u73fe\\u91d1\\u6536\\u5165\",\"\\u8033\\u6a5f\\u73fe\\u91d1\")'>151,000</td><td align=\"right\"></td><td align=\"right\"></td><td align=\"right\" onclick='findDetail(\"2017-01-14\",\"1.\\u73fe\\u91d1\\u6536\\u5165\",\"\\u806f\\u4fe1_\\u52063\\u671f\")'>17,890</td><td align=\"right\"></td><td align=\"right\"></td><td align=\"right\"></td><td align=\"right\"></td><td align=\"right\"></td><td align=\"right\"></td><td align=\"right\"></td><td align=\"right\"></td><td align=\"right\"></td><td align=\"right\"></td><td align=\"right\"></td><td align=\"right\"></td><td align=\"right\"></td><td align=\"right\"></td><td align=\"right\"></td><td align=\"right\"></td><td align=\"right\"></td><td align=\"right\" onclick='findDetail(\"2017-01-14\",\"5.\\u73fe\\u91d1\\u652f\\u51fa\",\"\\u9910\\u8cbb\")'>900</td><td align=\"right\"></td><td align=\"right\"></td><td align=\"right\"></td><td align=\"right\"></td></tr>, <tr><td nowrap=\"\">2017-01-15</td><td align=\"right\" onclick='findDetail(\"2017-01-15\",\"1.\\u73fe\\u91d1\\u6536\\u5165\",\"\\u4e2d\\u4fe1(V+M+J)\")'>72,050</td><td align=\"right\"></td><td align=\"right\"></td><td align=\"right\"></td><td align=\"right\" onclick='findDetail(\"2017-01-15\",\"1.\\u73fe\\u91d1\\u6536\\u5165\",\"\\u570b\\u6cf0(V+M+J)\")'>12,700</td><td align=\"right\"></td><td align=\"right\"></td><td align=\"right\"></td><td align=\"right\" onclick='findDetail(\"2017-01-15\",\"1.\\u73fe\\u91d1\\u6536\\u5165\",\"\\u8033\\u6a5f\\u73fe\\u91d1\")'>125,200</td><td align=\"right\"></td><td align=\"right\" onclick='findDetail(\"2017-01-15\",\"1.\\u73fe\\u91d1\\u6536\\u5165\",\"\\u806f\\u4fe1_\\u520612\\u671f\")'>65,900</td><td align=\"right\" onclick='findDetail(\"2017-01-15\",\"1.\\u73fe\\u91d1\\u6536\\u5165\",\"\\u806f\\u4fe1_\\u52063\\u671f\")'>11,500</td><td align=\"right\"></td><td align=\"right\"></td><td align=\"right\"></td><td align=\"right\"></td><td align=\"right\"></td><td align=\"right\"></td><td align=\"right\"></td><td align=\"right\"></td><td align=\"right\"></td><td align=\"right\"></td><td align=\"right\"></td><td align=\"right\"></td><td align=\"right\"></td><td align=\"right\"></td><td align=\"right\"></td><td align=\"right\"></td><td align=\"right\"></td><td align=\"right\"></td><td align=\"right\"></td><td align=\"right\"></td><td align=\"right\"></td><td align=\"right\"></td></tr>, <tr><td nowrap=\"\">2017-01-16</td><td align=\"right\" onclick='findDetail(\"2017-01-16\",\"1.\\u73fe\\u91d1\\u6536\\u5165\",\"\\u4e2d\\u4fe1(V+M+J)\")'>15,270</td><td align=\"right\"></td><td align=\"right\"></td><td align=\"right\"></td><td align=\"right\" onclick='findDetail(\"2017-01-16\",\"1.\\u73fe\\u91d1\\u6536\\u5165\",\"\\u570b\\u6cf0(V+M+J)\")'>6,290</td><td align=\"right\" onclick='findDetail(\"2017-01-16\",\"1.\\u73fe\\u91d1\\u6536\\u5165\",\"\\u570b\\u6cf0_\\u520612\\u671f\")'>52,800</td><td align=\"right\"></td><td align=\"right\" onclick='findDetail(\"2017-01-16\",\"1.\\u73fe\\u91d1\\u6536\\u5165\",\"\\u5df2\\u4ed8\\u8cbb\\u7528\")'>3,218</td><td align=\"right\" onclick='findDetail(\"2017-01-16\",\"1.\\u73fe\\u91d1\\u6536\\u5165\",\"\\u8033\\u6a5f\\u73fe\\u91d1\")'>118,700</td><td align=\"right\"></td><td align=\"right\"></td><td align=\"right\"></td><td align=\"right\"></td><td align=\"right\"></td><td align=\"right\"></td><td align=\"right\"></td><td align=\"right\"></td><td align=\"right\"></td><td align=\"right\"></td><td align=\"right\" onclick='findDetail(\"2017-01-16\",\"5.\\u73fe\\u91d1\\u652f\\u51fa\",\"\\u570b\\u8cbf\\u95dc\\u7a05\")'>2,215</td><td align=\"right\" onclick='findDetail(\"2017-01-16\",\"5.\\u73fe\\u91d1\\u652f\\u51fa\",\"\\u624b\\u7e8c\\u8cbb\")'>3,179</td><td align=\"right\"></td><td align=\"right\"></td><td align=\"right\"></td><td align=\"right\"></td><td align=\"right\"></td><td align=\"right\" onclick='findDetail(\"2017-01-16\",\"5.\\u73fe\\u91d1\\u652f\\u51fa\",\"\\u904b\\u8cbb\")'>530</td><td align=\"right\" onclick='findDetail(\"2017-01-16\",\"5.\\u73fe\\u91d1\\u652f\\u51fa\",\"\\u96dc\\u8cbb\")'>115,500</td><td align=\"right\"></td><td align=\"right\" onclick='findDetail(\"2017-01-16\",\"5.\\u73fe\\u91d1\\u652f\\u51fa\",\"\\u9910\\u8cbb\")'>473</td><td align=\"right\" onclick='findDetail(\"2017-01-16\",\"8.\\u8ca8\\u6b3e\\u652f\\u51fa\",\"\\u532f\\u6b3e\")'>213,906</td><td align=\"right\" onclick='findDetail(\"2017-01-16\",\"8.\\u8ca8\\u6b3e\\u652f\\u51fa\",\"\\u652f\\u7968\")'>226,808.0</td><td align=\"right\"></td><td align=\"right\"></td></tr>, <tr><td nowrap=\"\">2017-01-17</td><td align=\"right\" onclick='findDetail(\"2017-01-17\",\"1.\\u73fe\\u91d1\\u6536\\u5165\",\"\\u4e2d\\u4fe1(V+M+J)\")'>32,390</td><td align=\"right\"></td><td align=\"right\"></td><td align=\"right\" onclick='findDetail(\"2017-01-17\",\"1.\\u73fe\\u91d1\\u6536\\u5165\",\"\\u4e2d\\u4fe1_\\u9280\\u806f\\u5361\")'>55,000</td><td align=\"right\" onclick='findDetail(\"2017-01-17\",\"1.\\u73fe\\u91d1\\u6536\\u5165\",\"\\u570b\\u6cf0(V+M+J)\")'>2,950</td><td align=\"right\"></td><td align=\"right\"></td><td align=\"right\" onclick='findDetail(\"2017-01-17\",\"1.\\u73fe\\u91d1\\u6536\\u5165\",\"\\u5df2\\u4ed8\\u8cbb\\u7528\")'>4,060</td><td align=\"right\" onclick='findDetail(\"2017-01-17\",\"1.\\u73fe\\u91d1\\u6536\\u5165\",\"\\u8033\\u6a5f\\u73fe\\u91d1\")'>50,300</td><td align=\"right\"></td><td align=\"right\"></td><td align=\"right\" onclick='findDetail(\"2017-01-17\",\"1.\\u73fe\\u91d1\\u6536\\u5165\",\"\\u806f\\u4fe1_\\u52063\\u671f\")'>3,200</td><td align=\"right\"></td><td align=\"right\"></td><td align=\"right\" onclick='findDetail(\"2017-01-17\",\"3.\\u91d1\\u6d41\\u6536\\u5165\",\"\\u9280\\u884c\\u6536\\u5165\")'>89</td><td align=\"right\"></td><td align=\"right\"></td><td align=\"right\"></td><td align=\"right\"></td><td align=\"right\" onclick='findDetail(\"2017-01-17\",\"5.\\u73fe\\u91d1\\u652f\\u51fa\",\"\\u570b\\u8cbf\\u95dc\\u7a05\")'>2,981</td><td align=\"right\"></td><td align=\"right\"></td><td align=\"right\"></td><td align=\"right\"></td><td align=\"right\"></td><td align=\"right\"></td><td align=\"right\" onclick='findDetail(\"2017-01-17\",\"5.\\u73fe\\u91d1\\u652f\\u51fa\",\"\\u904b\\u8cbb\")'>220</td><td align=\"right\" onclick='findDetail(\"2017-01-17\",\"5.\\u73fe\\u91d1\\u652f\\u51fa\",\"\\u96dc\\u8cbb\")'>249</td><td align=\"right\"></td><td align=\"right\" onclick='findDetail(\"2017-01-17\",\"5.\\u73fe\\u91d1\\u652f\\u51fa\",\"\\u9910\\u8cbb\")'>610</td><td align=\"right\"></td><td align=\"right\" onclick='findDetail(\"2017-01-17\",\"8.\\u8ca8\\u6b3e\\u652f\\u51fa\",\"\\u652f\\u7968\")'>47,520</td><td align=\"right\"></td><td align=\"right\"></td></tr>, <tr><td nowrap=\"\">2017-01-18</td><td align=\"right\" onclick='findDetail(\"2017-01-18\",\"1.\\u73fe\\u91d1\\u6536\\u5165\",\"\\u4e2d\\u4fe1(V+M+J)\")'>100,800</td><td align=\"right\"></td><td align=\"right\"></td><td align=\"right\"></td><td align=\"right\" onclick='findDetail(\"2017-01-18\",\"1.\\u73fe\\u91d1\\u6536\\u5165\",\"\\u570b\\u6cf0(V+M+J)\")'>3,450</td><td align=\"right\"></td><td align=\"right\"></td><td align=\"right\"></td><td align=\"right\" onclick='findDetail(\"2017-01-18\",\"1.\\u73fe\\u91d1\\u6536\\u5165\",\"\\u8033\\u6a5f\\u73fe\\u91d1\")'>27,490</td><td align=\"right\"></td><td align=\"right\"></td><td align=\"right\"></td><td align=\"right\"></td><td align=\"right\" onclick='findDetail(\"2017-01-18\",\"3.\\u91d1\\u6d41\\u6536\\u5165\",\"\\u884c\\u92b7\\u88dc\\u52a9\\u6536\\u5165\")'>20,767</td><td align=\"right\" onclick='findDetail(\"2017-01-18\",\"3.\\u91d1\\u6d41\\u6536\\u5165\",\"\\u9280\\u884c\\u6536\\u5165\")'>178</td><td align=\"right\"></td><td align=\"right\"></td><td align=\"right\"></td><td align=\"right\"></td><td align=\"right\"></td><td align=\"right\"></td><td align=\"right\"></td><td align=\"right\"></td><td align=\"right\"></td><td align=\"right\"></td><td align=\"right\"></td><td align=\"right\" onclick='findDetail(\"2017-01-18\",\"5.\\u73fe\\u91d1\\u652f\\u51fa\",\"\\u904b\\u8cbb\")'>210</td><td align=\"right\"></td><td align=\"right\"></td><td align=\"right\" onclick='findDetail(\"2017-01-18\",\"5.\\u73fe\\u91d1\\u652f\\u51fa\",\"\\u9910\\u8cbb\")'>680</td><td align=\"right\" onclick='findDetail(\"2017-01-18\",\"8.\\u8ca8\\u6b3e\\u652f\\u51fa\",\"\\u532f\\u6b3e\")'>120,000</td><td align=\"right\" onclick='findDetail(\"2017-01-18\",\"8.\\u8ca8\\u6b3e\\u652f\\u51fa\",\"\\u652f\\u7968\")'>53,310</td><td align=\"right\"></td><td align=\"right\"></td></tr>, <tr><td nowrap=\"\">2017-01-19</td><td align=\"right\" onclick='findDetail(\"2017-01-19\",\"1.\\u73fe\\u91d1\\u6536\\u5165\",\"\\u4e2d\\u4fe1(V+M+J)\")'>31,520</td><td align=\"right\"></td><td align=\"right\"></td><td align=\"right\"></td><td align=\"right\"></td><td align=\"right\"></td><td align=\"right\"></td><td align=\"right\" onclick='findDetail(\"2017-01-19\",\"1.\\u73fe\\u91d1\\u6536\\u5165\",\"\\u5df2\\u4ed8\\u8cbb\\u7528\")'>1,010</td><td align=\"right\" onclick='findDetail(\"2017-01-19\",\"1.\\u73fe\\u91d1\\u6536\\u5165\",\"\\u8033\\u6a5f\\u73fe\\u91d1\")'>73,000</td><td align=\"right\"></td><td align=\"right\"></td><td align=\"right\"></td><td align=\"right\"></td><td align=\"right\"></td><td align=\"right\"></td><td align=\"right\"></td><td align=\"right\"></td><td align=\"right\"></td><td align=\"right\"></td><td align=\"right\"></td><td align=\"right\" onclick='findDetail(\"2017-01-19\",\"5.\\u73fe\\u91d1\\u652f\\u51fa\",\"\\u624b\\u7e8c\\u8cbb\")'>952</td><td align=\"right\"></td><td align=\"right\"></td><td align=\"right\"></td><td align=\"right\"></td><td align=\"right\" onclick='findDetail(\"2017-01-19\",\"5.\\u73fe\\u91d1\\u652f\\u51fa\",\"\\u85aa\\u8cc7\")'>43,981</td><td align=\"right\" onclick='findDetail(\"2017-01-19\",\"5.\\u73fe\\u91d1\\u652f\\u51fa\",\"\\u904b\\u8cbb\")'>310</td><td align=\"right\"></td><td align=\"right\"></td><td align=\"right\" onclick='findDetail(\"2017-01-19\",\"5.\\u73fe\\u91d1\\u652f\\u51fa\",\"\\u9910\\u8cbb\")'>700</td><td align=\"right\" onclick='findDetail(\"2017-01-19\",\"8.\\u8ca8\\u6b3e\\u652f\\u51fa\",\"\\u532f\\u6b3e\")'>103,600</td><td align=\"right\"></td><td align=\"right\"></td><td align=\"right\"></td></tr>, <tr><td nowrap=\"\">2017-01-20</td><td align=\"right\" onclick='findDetail(\"2017-01-20\",\"1.\\u73fe\\u91d1\\u6536\\u5165\",\"\\u4e2d\\u4fe1(V+M+J)\")'>34,660</td><td align=\"right\"></td><td align=\"right\"></td><td align=\"right\"></td><td align=\"right\"></td><td align=\"right\"></td><td align=\"right\"></td><td align=\"right\" onclick='findDetail(\"2017-01-20\",\"1.\\u73fe\\u91d1\\u6536\\u5165\",\"\\u5df2\\u4ed8\\u8cbb\\u7528\")'>1,125</td><td align=\"right\" onclick='findDetail(\"2017-01-20\",\"1.\\u73fe\\u91d1\\u6536\\u5165\",\"\\u8033\\u6a5f\\u73fe\\u91d1\")'>49,600</td><td align=\"right\"></td><td align=\"right\"></td><td align=\"right\" onclick='findDetail(\"2017-01-20\",\"1.\\u73fe\\u91d1\\u6536\\u5165\",\"\\u806f\\u4fe1_\\u52063\\u671f\")'>5,040</td><td align=\"right\"></td><td align=\"right\"></td><td align=\"right\"></td><td align=\"right\"></td><td align=\"right\"></td><td align=\"right\"></td><td align=\"right\"></td><td align=\"right\"></td><td align=\"right\"></td><td align=\"right\"></td><td align=\"right\"></td><td align=\"right\"></td><td align=\"right\"></td><td align=\"right\" onclick='findDetail(\"2017-01-20\",\"5.\\u73fe\\u91d1\\u652f\\u51fa\",\"\\u85aa\\u8cc7\")'>67,307</td><td align=\"right\" onclick='findDetail(\"2017-01-20\",\"5.\\u73fe\\u91d1\\u652f\\u51fa\",\"\\u904b\\u8cbb\")'>300</td><td align=\"right\"></td><td align=\"right\"></td><td align=\"right\" onclick='findDetail(\"2017-01-20\",\"5.\\u73fe\\u91d1\\u652f\\u51fa\",\"\\u9910\\u8cbb\")'>825</td><td align=\"right\"></td><td align=\"right\"></td><td align=\"right\"></td><td align=\"right\"></td></tr>, <tr><td nowrap=\"\">2017-01-21</td><td align=\"right\" onclick='findDetail(\"2017-01-21\",\"1.\\u73fe\\u91d1\\u6536\\u5165\",\"\\u4e2d\\u4fe1(V+M+J)\")'>77,760</td><td align=\"right\"></td><td align=\"right\"></td><td align=\"right\"></td><td align=\"right\" onclick='findDetail(\"2017-01-21\",\"1.\\u73fe\\u91d1\\u6536\\u5165\",\"\\u570b\\u6cf0(V+M+J)\")'>3,950</td><td align=\"right\"></td><td align=\"right\"></td><td align=\"right\" onclick='findDetail(\"2017-01-21\",\"1.\\u73fe\\u91d1\\u6536\\u5165\",\"\\u5df2\\u4ed8\\u8cbb\\u7528\")'>940</td><td align=\"right\" onclick='findDetail(\"2017-01-21\",\"1.\\u73fe\\u91d1\\u6536\\u5165\",\"\\u8033\\u6a5f\\u73fe\\u91d1\")'>97,800</td><td align=\"right\"></td><td align=\"right\"></td><td align=\"right\"></td><td align=\"right\"></td><td align=\"right\"></td><td align=\"right\"></td><td align=\"right\"></td><td align=\"right\"></td><td align=\"right\"></td><td align=\"right\"></td><td align=\"right\"></td><td align=\"right\"></td><td align=\"right\"></td><td align=\"right\"></td><td align=\"right\"></td><td align=\"right\"></td><td align=\"right\"></td><td align=\"right\" onclick='findDetail(\"2017-01-21\",\"5.\\u73fe\\u91d1\\u652f\\u51fa\",\"\\u904b\\u8cbb\")'>60</td><td align=\"right\"></td><td align=\"right\"></td><td align=\"right\" onclick='findDetail(\"2017-01-21\",\"5.\\u73fe\\u91d1\\u652f\\u51fa\",\"\\u9910\\u8cbb\")'>880</td><td align=\"right\"></td><td align=\"right\"></td><td align=\"right\"></td><td align=\"right\"></td></tr>, <tr><td nowrap=\"\">2017-01-22</td><td align=\"right\" onclick='findDetail(\"2017-01-22\",\"1.\\u73fe\\u91d1\\u6536\\u5165\",\"\\u4e2d\\u4fe1(V+M+J)\")'>66,160</td><td align=\"right\"></td><td align=\"right\"></td><td align=\"right\"></td><td align=\"right\" onclick='findDetail(\"2017-01-22\",\"1.\\u73fe\\u91d1\\u6536\\u5165\",\"\\u570b\\u6cf0(V+M+J)\")'>5,600</td><td align=\"right\"></td><td align=\"right\"></td><td align=\"right\" onclick='findDetail(\"2017-01-22\",\"1.\\u73fe\\u91d1\\u6536\\u5165\",\"\\u5df2\\u4ed8\\u8cbb\\u7528\")'>1,457</td><td align=\"right\" onclick='findDetail(\"2017-01-22\",\"1.\\u73fe\\u91d1\\u6536\\u5165\",\"\\u8033\\u6a5f\\u73fe\\u91d1\")'>47,600</td><td align=\"right\"></td><td align=\"right\"></td><td align=\"right\" onclick='findDetail(\"2017-01-22\",\"1.\\u73fe\\u91d1\\u6536\\u5165\",\"\\u806f\\u4fe1_\\u52063\\u671f\")'>10,280</td><td align=\"right\"></td><td align=\"right\"></td><td align=\"right\"></td><td align=\"right\"></td><td align=\"right\"></td><td align=\"right\"></td><td align=\"right\"></td><td align=\"right\"></td><td align=\"right\"></td><td align=\"right\"></td><td align=\"right\"></td><td align=\"right\"></td><td align=\"right\"></td><td align=\"right\"></td><td align=\"right\"></td><td align=\"right\" onclick='findDetail(\"2017-01-22\",\"5.\\u73fe\\u91d1\\u652f\\u51fa\",\"\\u96dc\\u8cbb\")'>468</td><td align=\"right\"></td><td align=\"right\" onclick='findDetail(\"2017-01-22\",\"5.\\u73fe\\u91d1\\u652f\\u51fa\",\"\\u9910\\u8cbb\")'>989</td><td align=\"right\"></td><td align=\"right\"></td><td align=\"right\"></td><td align=\"right\"></td></tr>, <tr><td nowrap=\"\">2017-01-23</td><td align=\"right\" onclick='findDetail(\"2017-01-23\",\"1.\\u73fe\\u91d1\\u6536\\u5165\",\"\\u4e2d\\u4fe1(V+M+J)\")'>40,000</td><td align=\"right\"></td><td align=\"right\"></td><td align=\"right\"></td><td align=\"right\" onclick='findDetail(\"2017-01-23\",\"1.\\u73fe\\u91d1\\u6536\\u5165\",\"\\u570b\\u6cf0(V+M+J)\")'>43,900</td><td align=\"right\"></td><td align=\"right\"></td><td align=\"right\" onclick='findDetail(\"2017-01-23\",\"1.\\u73fe\\u91d1\\u6536\\u5165\",\"\\u5df2\\u4ed8\\u8cbb\\u7528\")'>5,099</td><td align=\"right\" onclick='findDetail(\"2017-01-23\",\"1.\\u73fe\\u91d1\\u6536\\u5165\",\"\\u8033\\u6a5f\\u73fe\\u91d1\")'>87,800</td><td align=\"right\"></td><td align=\"right\"></td><td align=\"right\" onclick='findDetail(\"2017-01-23\",\"1.\\u73fe\\u91d1\\u6536\\u5165\",\"\\u806f\\u4fe1_\\u52063\\u671f\")'>5,040</td><td align=\"right\"></td><td align=\"right\"></td><td align=\"right\"></td><td align=\"right\" onclick='findDetail(\"2017-01-23\",\"5.\\u73fe\\u91d1\\u652f\\u51fa\",\"\\u5065\\u4fdd\")'>17,868</td><td align=\"right\" onclick='findDetail(\"2017-01-23\",\"5.\\u73fe\\u91d1\\u652f\\u51fa\",\"\\u52de\\u4fdd\")'>24,958</td><td align=\"right\" onclick='findDetail(\"2017-01-23\",\"5.\\u73fe\\u91d1\\u652f\\u51fa\",\"\\u52de\\u9000\\u63d0\\u64a5\")'>11,730</td><td align=\"right\"></td><td align=\"right\" onclick='findDetail(\"2017-01-23\",\"5.\\u73fe\\u91d1\\u652f\\u51fa\",\"\\u570b\\u8cbf\\u95dc\\u7a05\")'>3,140</td><td align=\"right\" onclick='findDetail(\"2017-01-23\",\"5.\\u73fe\\u91d1\\u652f\\u51fa\",\"\\u624b\\u7e8c\\u8cbb\")'>12,000</td><td align=\"right\" onclick='findDetail(\"2017-01-23\",\"5.\\u73fe\\u91d1\\u652f\\u51fa\",\"\\u6587\\u5177\")'>294</td><td align=\"right\"></td><td align=\"right\" onclick='findDetail(\"2017-01-23\",\"5.\\u73fe\\u91d1\\u652f\\u51fa\",\"\\u71df\\u696d\\u7a05\\u8ce6\")'>128,525</td><td align=\"right\"></td><td align=\"right\"></td><td align=\"right\" onclick='findDetail(\"2017-01-23\",\"5.\\u73fe\\u91d1\\u652f\\u51fa\",\"\\u904b\\u8cbb\")'>770</td><td align=\"right\"></td><td align=\"right\"></td><td align=\"right\" onclick='findDetail(\"2017-01-23\",\"5.\\u73fe\\u91d1\\u652f\\u51fa\",\"\\u9910\\u8cbb\")'>895</td><td align=\"right\" onclick='findDetail(\"2017-01-23\",\"8.\\u8ca8\\u6b3e\\u652f\\u51fa\",\"\\u532f\\u6b3e\")'>50,000</td><td align=\"right\"></td><td align=\"right\"></td><td align=\"right\"></td></tr>, <tr><td nowrap=\"\">2017-01-24</td><td align=\"right\" onclick='findDetail(\"2017-01-24\",\"1.\\u73fe\\u91d1\\u6536\\u5165\",\"\\u4e2d\\u4fe1(V+M+J)\")'>13,300</td><td align=\"right\"></td><td align=\"right\"></td><td align=\"right\"></td><td align=\"right\" onclick='findDetail(\"2017-01-24\",\"1.\\u73fe\\u91d1\\u6536\\u5165\",\"\\u570b\\u6cf0(V+M+J)\")'>12,200</td><td align=\"right\"></td><td align=\"right\" onclick='findDetail(\"2017-01-24\",\"1.\\u73fe\\u91d1\\u6536\\u5165\",\"\\u570b\\u6cf0_\\u52063\\u671f\")'>22,500</td><td align=\"right\" onclick='findDetail(\"2017-01-24\",\"1.\\u73fe\\u91d1\\u6536\\u5165\",\"\\u5df2\\u4ed8\\u8cbb\\u7528\")'>2,089</td><td align=\"right\" onclick='findDetail(\"2017-01-24\",\"1.\\u73fe\\u91d1\\u6536\\u5165\",\"\\u8033\\u6a5f\\u73fe\\u91d1\")'>87,600</td><td align=\"right\"></td><td align=\"right\"></td><td align=\"right\" onclick='findDetail(\"2017-01-24\",\"1.\\u73fe\\u91d1\\u6536\\u5165\",\"\\u806f\\u4fe1_\\u52063\\u671f\")'>19,000</td><td align=\"right\"></td><td align=\"right\"></td><td align=\"right\"></td><td align=\"right\"></td><td align=\"right\"></td><td align=\"right\"></td><td align=\"right\"></td><td align=\"right\" onclick='findDetail(\"2017-01-24\",\"5.\\u73fe\\u91d1\\u652f\\u51fa\",\"\\u570b\\u8cbf\\u95dc\\u7a05\")'>479</td><td align=\"right\"></td><td align=\"right\" onclick='findDetail(\"2017-01-24\",\"5.\\u73fe\\u91d1\\u652f\\u51fa\",\"\\u6587\\u5177\")'>600</td><td align=\"right\"></td><td align=\"right\"></td><td align=\"right\"></td><td align=\"right\"></td><td align=\"right\" onclick='findDetail(\"2017-01-24\",\"5.\\u73fe\\u91d1\\u652f\\u51fa\",\"\\u904b\\u8cbb\")'>290</td><td align=\"right\"></td><td align=\"right\"></td><td align=\"right\" onclick='findDetail(\"2017-01-24\",\"5.\\u73fe\\u91d1\\u652f\\u51fa\",\"\\u9910\\u8cbb\")'>720</td><td align=\"right\"></td><td align=\"right\" onclick='findDetail(\"2017-01-24\",\"8.\\u8ca8\\u6b3e\\u652f\\u51fa\",\"\\u652f\\u7968\")'>332,460</td><td align=\"right\"></td><td align=\"right\"></td></tr>, <tr><td nowrap=\"\">2017-01-25</td><td align=\"right\" onclick='findDetail(\"2017-01-25\",\"1.\\u73fe\\u91d1\\u6536\\u5165\",\"\\u4e2d\\u4fe1(V+M+J)\")'>38,470</td><td align=\"right\" onclick='findDetail(\"2017-01-25\",\"1.\\u73fe\\u91d1\\u6536\\u5165\",\"\\u4e2d\\u4fe1_\\u520612\\u671f\")'>20,000</td><td align=\"right\"></td><td align=\"right\"></td><td align=\"right\" onclick='findDetail(\"2017-01-25\",\"1.\\u73fe\\u91d1\\u6536\\u5165\",\"\\u570b\\u6cf0(V+M+J)\")'>11,500</td><td align=\"right\"></td><td align=\"right\"></td><td align=\"right\" onclick='findDetail(\"2017-01-25\",\"1.\\u73fe\\u91d1\\u6536\\u5165\",\"\\u5df2\\u4ed8\\u8cbb\\u7528\")'>8,203</td><td align=\"right\" onclick='findDetail(\"2017-01-25\",\"1.\\u73fe\\u91d1\\u6536\\u5165\",\"\\u8033\\u6a5f\\u73fe\\u91d1\")'>85,100</td><td align=\"right\"></td><td align=\"right\"></td><td align=\"right\" onclick='findDetail(\"2017-01-25\",\"1.\\u73fe\\u91d1\\u6536\\u5165\",\"\\u806f\\u4fe1_\\u52063\\u671f\")'>17,280</td><td align=\"right\"></td><td align=\"right\"></td><td align=\"right\" onclick='findDetail(\"2017-01-25\",\"3.\\u91d1\\u6d41\\u6536\\u5165\",\"\\u9280\\u884c\\u6536\\u5165\")'>178</td><td align=\"right\"></td><td align=\"right\"></td><td align=\"right\"></td><td align=\"right\" onclick='findDetail(\"2017-01-25\",\"5.\\u73fe\\u91d1\\u652f\\u51fa\",\"\\u54e1\\u5de5\\u798f\\u5229\")'>4,800</td><td align=\"right\"></td><td align=\"right\"></td><td align=\"right\"></td><td align=\"right\"></td><td align=\"right\"></td><td align=\"right\"></td><td align=\"right\"></td><td align=\"right\" onclick='findDetail(\"2017-01-25\",\"5.\\u73fe\\u91d1\\u652f\\u51fa\",\"\\u904b\\u8cbb\")'>713</td><td align=\"right\"></td><td align=\"right\"></td><td align=\"right\" onclick='findDetail(\"2017-01-25\",\"5.\\u73fe\\u91d1\\u652f\\u51fa\",\"\\u9910\\u8cbb\")'>590</td><td align=\"right\"></td><td align=\"right\"></td><td align=\"right\" onclick='findDetail(\"2017-01-25\",\"8.\\u8ca8\\u6b3e\\u652f\\u51fa\",\"\\u73fe\\u91d1\")'>2,100</td><td align=\"right\"></td></tr>, <tr><td nowrap=\"\">2017-01-26</td><td align=\"right\" onclick='findDetail(\"2017-01-26\",\"1.\\u73fe\\u91d1\\u6536\\u5165\",\"\\u4e2d\\u4fe1(V+M+J)\")'>68,128</td><td align=\"right\"></td><td align=\"right\"></td><td align=\"right\"></td><td align=\"right\" onclick='findDetail(\"2017-01-26\",\"1.\\u73fe\\u91d1\\u6536\\u5165\",\"\\u570b\\u6cf0(V+M+J)\")'>14,130</td><td align=\"right\"></td><td align=\"right\"></td><td align=\"right\" onclick='findDetail(\"2017-01-26\",\"1.\\u73fe\\u91d1\\u6536\\u5165\",\"\\u5df2\\u4ed8\\u8cbb\\u7528\")'>3,494</td><td align=\"right\" onclick='findDetail(\"2017-01-26\",\"1.\\u73fe\\u91d1\\u6536\\u5165\",\"\\u8033\\u6a5f\\u73fe\\u91d1\")'>112,900</td><td align=\"right\"></td><td align=\"right\"></td><td align=\"right\" onclick='findDetail(\"2017-01-26\",\"1.\\u73fe\\u91d1\\u6536\\u5165\",\"\\u806f\\u4fe1_\\u52063\\u671f\")'>8,200</td><td align=\"right\"></td><td align=\"right\"></td><td align=\"right\"></td><td align=\"right\"></td><td align=\"right\"></td><td align=\"right\"></td><td align=\"right\"></td><td align=\"right\"></td><td align=\"right\"></td><td align=\"right\"></td><td align=\"right\"></td><td align=\"right\"></td><td align=\"right\"></td><td align=\"right\" onclick='findDetail(\"2017-01-26\",\"5.\\u73fe\\u91d1\\u652f\\u51fa\",\"\\u85aa\\u8cc7\")'>267,003</td><td align=\"right\" onclick='findDetail(\"2017-01-26\",\"5.\\u73fe\\u91d1\\u652f\\u51fa\",\"\\u904b\\u8cbb\")'>2,454</td><td align=\"right\"></td><td align=\"right\"></td><td align=\"right\" onclick='findDetail(\"2017-01-26\",\"5.\\u73fe\\u91d1\\u652f\\u51fa\",\"\\u9910\\u8cbb\")'>1,040</td><td align=\"right\"></td><td align=\"right\"></td><td align=\"right\"></td><td align=\"right\"></td></tr>, <tr><td nowrap=\"\">2017-01-27</td><td align=\"right\" onclick='findDetail(\"2017-01-27\",\"1.\\u73fe\\u91d1\\u6536\\u5165\",\"\\u4e2d\\u4fe1(V+M+J)\")'>31,070</td><td align=\"right\"></td><td align=\"right\"></td><td align=\"right\"></td><td align=\"right\" onclick='findDetail(\"2017-01-27\",\"1.\\u73fe\\u91d1\\u6536\\u5165\",\"\\u570b\\u6cf0(V+M+J)\")'>10,000</td><td align=\"right\"></td><td align=\"right\"></td><td align=\"right\"></td><td align=\"right\" onclick='findDetail(\"2017-01-27\",\"1.\\u73fe\\u91d1\\u6536\\u5165\",\"\\u8033\\u6a5f\\u73fe\\u91d1\")'>59,500</td><td align=\"right\"></td><td align=\"right\"></td><td align=\"right\" onclick='findDetail(\"2017-01-27\",\"1.\\u73fe\\u91d1\\u6536\\u5165\",\"\\u806f\\u4fe1_\\u52063\\u671f\")'>4,900</td><td align=\"right\"></td><td align=\"right\"></td><td align=\"right\"></td><td align=\"right\"></td><td align=\"right\"></td><td align=\"right\"></td><td align=\"right\"></td><td align=\"right\"></td><td align=\"right\"></td><td align=\"right\"></td><td align=\"right\"></td><td align=\"right\"></td><td align=\"right\"></td><td align=\"right\"></td><td align=\"right\"></td><td align=\"right\"></td><td align=\"right\"></td><td align=\"right\"></td><td align=\"right\"></td><td align=\"right\"></td><td align=\"right\"></td><td align=\"right\"></td></tr>, <tr><td nowrap=\"\">2017-01-28</td><td align=\"right\" onclick='findDetail(\"2017-01-28\",\"1.\\u73fe\\u91d1\\u6536\\u5165\",\"\\u4e2d\\u4fe1(V+M+J)\")'>74,550</td><td align=\"right\"></td><td align=\"right\" onclick='findDetail(\"2017-01-28\",\"1.\\u73fe\\u91d1\\u6536\\u5165\",\"\\u4e2d\\u4fe1_\\u52063\\u671f\")'>7,500</td><td align=\"right\"></td><td align=\"right\" onclick='findDetail(\"2017-01-28\",\"1.\\u73fe\\u91d1\\u6536\\u5165\",\"\\u570b\\u6cf0(V+M+J)\")'>9,900</td><td align=\"right\" onclick='findDetail(\"2017-01-28\",\"1.\\u73fe\\u91d1\\u6536\\u5165\",\"\\u570b\\u6cf0_\\u520612\\u671f\")'>16,500</td><td align=\"right\" onclick='findDetail(\"2017-01-28\",\"1.\\u73fe\\u91d1\\u6536\\u5165\",\"\\u570b\\u6cf0_\\u52063\\u671f\")'>3,000</td><td align=\"right\"></td><td align=\"right\" onclick='findDetail(\"2017-01-28\",\"1.\\u73fe\\u91d1\\u6536\\u5165\",\"\\u8033\\u6a5f\\u73fe\\u91d1\")'>97,600</td><td align=\"right\"></td><td align=\"right\"></td><td align=\"right\" onclick='findDetail(\"2017-01-28\",\"1.\\u73fe\\u91d1\\u6536\\u5165\",\"\\u806f\\u4fe1_\\u52063\\u671f\")'>15,500</td><td align=\"right\"></td><td align=\"right\"></td><td align=\"right\"></td><td align=\"right\"></td><td align=\"right\"></td><td align=\"right\"></td><td align=\"right\"></td><td align=\"right\"></td><td align=\"right\"></td><td align=\"right\"></td><td align=\"right\"></td><td align=\"right\"></td><td align=\"right\"></td><td align=\"right\"></td><td align=\"right\"></td><td align=\"right\"></td><td align=\"right\"></td><td align=\"right\"></td><td align=\"right\"></td><td align=\"right\"></td><td align=\"right\"></td><td align=\"right\"></td></tr>, <tr><td nowrap=\"\">2017-01-29</td><td align=\"right\" onclick='findDetail(\"2017-01-29\",\"1.\\u73fe\\u91d1\\u6536\\u5165\",\"\\u4e2d\\u4fe1(V+M+J)\")'>52,780</td><td align=\"right\"></td><td align=\"right\"></td><td align=\"right\"></td><td align=\"right\" onclick='findDetail(\"2017-01-29\",\"1.\\u73fe\\u91d1\\u6536\\u5165\",\"\\u570b\\u6cf0(V+M+J)\")'>10,260</td><td align=\"right\"></td><td align=\"right\"></td><td align=\"right\"></td><td align=\"right\" onclick='findDetail(\"2017-01-29\",\"1.\\u73fe\\u91d1\\u6536\\u5165\",\"\\u8033\\u6a5f\\u73fe\\u91d1\")'>99,000</td><td align=\"right\"></td><td align=\"right\" onclick='findDetail(\"2017-01-29\",\"1.\\u73fe\\u91d1\\u6536\\u5165\",\"\\u806f\\u4fe1_\\u520612\\u671f\")'>24,000</td><td align=\"right\"></td><td align=\"right\"></td><td align=\"right\"></td><td align=\"right\"></td><td align=\"right\"></td><td align=\"right\"></td><td align=\"right\"></td><td align=\"right\"></td><td align=\"right\"></td><td align=\"right\"></td><td align=\"right\"></td><td align=\"right\"></td><td align=\"right\"></td><td align=\"right\"></td><td align=\"right\"></td><td align=\"right\"></td><td align=\"right\"></td><td align=\"right\"></td><td align=\"right\"></td><td align=\"right\"></td><td align=\"right\"></td><td align=\"right\"></td><td align=\"right\"></td></tr>, <tr><td align=\"center\">\\u5c0f\\u8a08</td><td align=\"right\">1,315,168</td><td align=\"right\">68,900</td><td align=\"right\">13,790</td><td align=\"right\">58,200</td><td align=\"right\">202,160</td><td align=\"right\">69,300</td><td align=\"right\">37,500</td><td align=\"right\">80,774</td><td align=\"right\">2,111,590</td><td align=\"right\">31,850</td><td align=\"right\">89,900</td><td align=\"right\">188,780</td><td align=\"right\">7,790</td><td align=\"right\">35,867</td><td align=\"right\">445</td><td align=\"right\">17,868</td><td align=\"right\">24,958</td><td align=\"right\">11,730</td><td align=\"right\">4,800</td><td align=\"right\">17,693</td><td align=\"right\">16,257</td><td align=\"right\">894</td><td align=\"right\">13,386</td><td align=\"right\">128,525</td><td align=\"right\">58,000</td><td align=\"right\">446,614</td><td align=\"right\">29,749.0</td><td align=\"right\">116,395</td><td align=\"right\">682</td><td align=\"right\">26,405</td><td align=\"right\">1,218,128</td><td align=\"right\">2,424,457.0</td><td align=\"right\">5,550</td><td align=\"right\">28,613</td></tr>, <tr><td align=\"center\">\\u5408\\u8a08</td><td align=\"center\" colspan=\"13\">4,275,702</td><td align=\"center\" colspan=\"2\">36,312</td><td align=\"center\" colspan=\"15\">913,956.0</td><td align=\"center\" colspan=\"3\">3,648,135.0</td><td align=\"center\" colspan=\"1\">28,613</td></tr>, <tr><td align=\"left\" colspan=\"35\">\\u7e3d\\u8a08:-278,690</td></tr>]\n",
      "===========================\n"
     ]
    }
   ],
   "source": [
    "import requests\n",
    "from bs4 import BeautifulSoup\n",
    "\n",
    "res = open('source_code/test.html','w')\n",
    "\n",
    "# res = driver.page_source\n",
    "# soup = BeautifulSoup(res)\n",
    "results = soup.find(id = 'result')\n",
    "tab = soup.find_all('tr')\n",
    "\n",
    "print(tab)\n",
    "\n",
    "print(\"===========================\")\n",
    "\n",
    "res.close()\n"
   ]
  },
  {
   "cell_type": "code",
   "execution_count": null,
   "metadata": {
    "collapsed": true
   },
   "outputs": [],
   "source": [
    "        soup=BeautifulSoup(html)\n",
    "        for tr in soup.find_all('tr')[2:]:\n",
    "            tds = tr.find_all('td')\n",
    "            row = [elem.text.encode('utf-8') for elem in tds]\n",
    "            writer.writerow(row)"
   ]
  },
  {
   "cell_type": "code",
   "execution_count": null,
   "metadata": {
    "collapsed": true
   },
   "outputs": [],
   "source": []
  },
  {
   "cell_type": "code",
   "execution_count": null,
   "metadata": {
    "collapsed": true
   },
   "outputs": [],
   "source": [
    " "
   ]
  },
  {
   "cell_type": "code",
   "execution_count": null,
   "metadata": {
    "collapsed": true
   },
   "outputs": [],
   "source": []
  },
  {
   "cell_type": "code",
   "execution_count": null,
   "metadata": {
    "collapsed": false
   },
   "outputs": [],
   "source": [
    "from selenium import webdriver\n",
    "\n",
    "driver = webdriver.PhantomJS(executable_path=r'請輸入路徑')  # PhantomJs\n",
    "driver.get('http://pala.tw/js-example/')  # 輸入範例網址，交給瀏覽器 \n",
    "pageSource = driver.page_source  # 取得網頁原始碼\n",
    "print(pageSource)\n",
    "\n",
    "driver.close()  # 關閉瀏覽器"
   ]
  },
  {
   "cell_type": "code",
   "execution_count": null,
   "metadata": {
    "collapsed": true
   },
   "outputs": [],
   "source": []
  },
  {
   "cell_type": "code",
   "execution_count": null,
   "metadata": {
    "collapsed": true
   },
   "outputs": [],
   "source": []
  },
  {
   "cell_type": "code",
   "execution_count": null,
   "metadata": {
    "collapsed": true
   },
   "outputs": [],
   "source": []
  },
  {
   "cell_type": "code",
   "execution_count": null,
   "metadata": {
    "collapsed": true
   },
   "outputs": [],
   "source": []
  },
  {
   "cell_type": "code",
   "execution_count": null,
   "metadata": {
    "collapsed": true
   },
   "outputs": [],
   "source": []
  },
  {
   "cell_type": "code",
   "execution_count": null,
   "metadata": {
    "collapsed": true
   },
   "outputs": [],
   "source": [
    "soup = BeautifulSoup(dirver.page_source, 'xml')"
   ]
  },
  {
   "cell_type": "code",
   "execution_count": null,
   "metadata": {
    "collapsed": true
   },
   "outputs": [],
   "source": [
    "soup.find(id=\"articlebody\")"
   ]
  },
  {
   "cell_type": "code",
   "execution_count": null,
   "metadata": {
    "collapsed": true
   },
   "outputs": [],
   "source": []
  },
  {
   "cell_type": "code",
   "execution_count": null,
   "metadata": {
    "collapsed": true
   },
   "outputs": [],
   "source": []
  },
  {
   "cell_type": "code",
   "execution_count": null,
   "metadata": {
    "collapsed": false
   },
   "outputs": [],
   "source": [
    "from selenium import webdriver\n",
    "\n",
    "driver = webdriver.PhantomJS(executable_path=r'/Users/LuoJieLiang/Desktop/jmplus+/crawler/phantomjs-2.1.1-macosx')  # PhantomJs\n",
    "driver.get('http://server.jmplus.com.tw/images/hd/mina/DailyRecord.htm')  # 輸入範例網址，交給瀏覽器 \n",
    "pageSource = driver.page_source  # 取得網頁原始碼\n",
    "print(pageSource)\n",
    "\n",
    "driver.close()  # 關閉瀏覽器"
   ]
  },
  {
   "cell_type": "code",
   "execution_count": null,
   "metadata": {
    "collapsed": true
   },
   "outputs": [],
   "source": []
  },
  {
   "cell_type": "code",
   "execution_count": null,
   "metadata": {
    "collapsed": true
   },
   "outputs": [],
   "source": []
  },
  {
   "cell_type": "code",
   "execution_count": null,
   "metadata": {
    "collapsed": true
   },
   "outputs": [],
   "source": []
  },
  {
   "cell_type": "code",
   "execution_count": null,
   "metadata": {
    "collapsed": true
   },
   "outputs": [],
   "source": [
    "\n",
    "# Python3.5\n",
    "# OS: Windows7\n",
    "# IDE: PyCharm\n",
    "from selenium import webdriver\n",
    "import time\n",
    "chrome_path = \"C:\\selenium_driver_chrome\\chromedriver.exe\" #chromedriver.exe執行檔所存在的路徑\n",
    "web = webdriver.Chrome(chrome_path)\n",
    "web.get('http://www.cwb.gov.tw/V7/')\n",
    "web.set_window_position(0,0) #瀏覽器位置\n",
    "web.set_window_size(700,700) #瀏覽器大小\n",
    "time.sleep(5)\n",
    "web.find_element_by_link_text('天氣預報').click() #點擊頁面上\"天氣預報\"的連結\n",
    "time.sleep(5)\n",
    "web.close()"
   ]
  }
 ],
 "metadata": {
  "kernelspec": {
   "display_name": "Python 2",
   "language": "python",
   "name": "python2"
  },
  "language_info": {
   "codemirror_mode": {
    "name": "ipython",
    "version": 2
   },
   "file_extension": ".py",
   "mimetype": "text/x-python",
   "name": "python",
   "nbconvert_exporter": "python",
   "pygments_lexer": "ipython2",
   "version": "2.7.12"
  }
 },
 "nbformat": 4,
 "nbformat_minor": 1
}
